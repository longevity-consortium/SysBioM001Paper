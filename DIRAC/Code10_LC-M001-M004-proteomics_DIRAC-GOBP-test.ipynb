{
 "cells": [
  {
   "cell_type": "markdown",
   "id": "a88add1f-155a-443d-835e-1f3dcea5437c",
   "metadata": {},
   "source": [
    "# DIRAC Analysis of LC M004 Proteomics with LC M001 Proteomics — Statistical Tests (GOBP Modules)"
   ]
  },
  {
   "cell_type": "markdown",
   "id": "3784e169-1a0b-4acf-a408-03716676bce3",
   "metadata": {},
   "source": [
    "***by Kengo Watanabe***  \n",
    "\n",
    "In the main Python notebook, the differential rank conservation (DIRAC; Eddy, J.A. et al. PLoS Comput. Biol. 2010) analysis is performed on the preprocessed Longevity Consortium (LC) M001 and M004 proteomics datasets (analytes detected in all samples; sample-based robust Z-score followed by analyte-based robust Z-score) using the retrieved a priori module set (Gene Ontology (Biological Process) derived by EMBL-EBI QuickGO API; ≥4 analytes and ≥50% coverage).  \n",
    "**–> To maintain the consistency with the other DIRAC analyses, statistical tests are performed in this sub-notebook with R kernel.**  \n",
    "\n",
    "Input:  \n",
    "* Cleaned module metadata: 220529_LCproteomics-M004-DIRAC_DIRAC-GOBP-with-M001_ver2-3_module-metadata.tsv  \n",
    "* Combined sample–mouse metadata: 220529_LCproteomics-M004-DIRAC_DIRAC-GOBP-with-M001_ver2-3_sample-metadata.tsv  \n",
    "* Combined table of DIRAC RMSs: 210128_LCproteomics-M004-DIRAC_M001-M004-common-DIRAC-GOBP_QuickGO-GOBP_min-n4-cov50_RankMatchingScore-BS.tsv  \n",
    "* Combined table of DIRAC RCIs: 210128_LCproteomics-M004-DIRAC_M001-M004-common-DIRAC-GOBP_QuickGO-GOBP_min-n4-cov50_RankConservationIndex-BS.tsv  \n",
    "\n",
    "Output:  \n",
    "* Supplementary Data 7  \n",
    "\n",
    "Original notebook (memo for my future tracing):  \n",
    "* dalek:[JupyterLab HOME]/210125_LCproteomics-M004-DIRAC/220529_LCproteomics-M004-DIRAC_StatisticalTest-GOBP-with-M001_ver2-3.ipynb  "
   ]
  },
  {
   "cell_type": "code",
   "execution_count": null,
   "id": "f141e4af-e174-4f1a-a88e-7e1396a865cd",
   "metadata": {},
   "outputs": [],
   "source": [
    "library(\"tidyverse\")\n",
    "options(repr.plot.width=5, repr.plot.height=5)#Default=7x7\n",
    "\n",
    "#CRAN\n",
    "for (package in c(\"multcomp\", \"openxlsx\")) {\n",
    "    #install.packages(package)\n",
    "    eval(bquote(library(.(package))))\n",
    "    print(str_c(package, \": \", as.character(packageVersion(package))))\n",
    "}"
   ]
  },
  {
   "cell_type": "markdown",
   "id": "a650b434-d7ec-4672-b328-1c45f5386d58",
   "metadata": {},
   "source": [
    "## 1. Prepare dataset and metadata"
   ]
  },
  {
   "cell_type": "code",
   "execution_count": null,
   "id": "d02334e8-8a46-445a-a85f-33f62cef518c",
   "metadata": {},
   "outputs": [],
   "source": [
    "#Import module metadata\n",
    "fileDir <- \"./ExportData/\"\n",
    "ipynbName <- \"220529_LCproteomics-M004-DIRAC_DIRAC-GOBP-with-M001_ver2-3_\"\n",
    "fileName <- \"module-metadata.tsv\"\n",
    "temp <- read_delim(str_c(fileDir,ipynbName,fileName), delim=\"\\t\")\n",
    "print(str_c(\"nrow: \",nrow(temp)))\n",
    "head(temp)\n",
    "\n",
    "module_meta <- temp"
   ]
  },
  {
   "cell_type": "code",
   "execution_count": null,
   "id": "88d6b360-6fbc-41b0-b7db-293c6b31555e",
   "metadata": {},
   "outputs": [],
   "source": [
    "#Import sample-mouse metadata\n",
    "fileDir <- \"./ExportData/\"\n",
    "ipynbName <- \"220529_LCproteomics-M004-DIRAC_DIRAC-GOBP-with-M001_ver2-3_\"\n",
    "fileName <- \"sample-metadata.tsv\"\n",
    "temp <- read_delim(str_c(fileDir,ipynbName,fileName), delim=\"\\t\")\n",
    "print(str_c(\"nrow: \",nrow(temp)))\n",
    "head(temp)\n",
    "\n",
    "sample_meta <- temp"
   ]
  },
  {
   "cell_type": "markdown",
   "id": "5dd97189-83f7-46cd-963a-41d91d2be9db",
   "metadata": {},
   "source": [
    "## 2. Perform DIRAC with sex-pooled rank consensus"
   ]
  },
  {
   "cell_type": "code",
   "execution_count": null,
   "id": "e38eb396-73bf-422a-a489-b37e07f7aade",
   "metadata": {},
   "outputs": [],
   "source": [
    "#Import the DIRAC results\n",
    "fileDir <- \"./ExportData/\"\n",
    "ipynbName <- \"210128_LCproteomics-M004-DIRAC_M001-M004-common-DIRAC-GOBP_\"\n",
    "fileName <- \"QuickGO-GOBP_min-n4-cov50_RankMatchingScore-BS.tsv\"\n",
    "temp <- read_delim(str_c(fileDir,ipynbName,fileName), delim=\"\\t\") %>%\n",
    "    dplyr::rename(ModuleID=NetworkID)\n",
    "print(str_c(\"nrow: \",nrow(temp)))\n",
    "head(temp)\n",
    "rms_tbl <- temp\n",
    "\n",
    "fileName <- \"QuickGO-GOBP_min-n4-cov50_RankConservationIndex-BS.tsv\"\n",
    "temp <- read_delim(str_c(fileDir,ipynbName,fileName), delim=\"\\t\") %>%\n",
    "    dplyr::rename(ModuleID=NetworkID)\n",
    "print(str_c(\"nrow: \",nrow(temp)))\n",
    "head(temp)\n",
    "rci_tbl <- temp"
   ]
  },
  {
   "cell_type": "markdown",
   "id": "10c79bc7-851c-40d4-9f10-60641d06fa20",
   "metadata": {},
   "source": [
    "## 3. Rank conservation index: general pattern"
   ]
  },
  {
   "cell_type": "markdown",
   "id": "868129d3-86ff-4673-893e-7f40944e0374",
   "metadata": {},
   "source": [
    "### 3-1. Extract RCI (the mean of RMSs under the own phenotype consensus)"
   ]
  },
  {
   "cell_type": "code",
   "execution_count": null,
   "id": "dceebc00-ab0c-4174-946b-dcbf06145388",
   "metadata": {},
   "outputs": [],
   "source": [
    "#Extract RCI whose template phenotype corresponds to the own phenotype\n",
    "phenotype_vec <- rci_tbl %>%\n",
    "    dplyr::select(-ModuleID, -Template) %>%\n",
    "    names()\n",
    "temp <- tibble(ModuleID=unique(rci_tbl$ModuleID))\n",
    "for (k in phenotype_vec) {\n",
    "    temp <- rci_tbl %>%\n",
    "        dplyr::filter(Template==!!k) %>%\n",
    "        dplyr::select(ModuleID, !!k) %>%\n",
    "        dplyr::left_join(temp, ., by=\"ModuleID\")\n",
    "}\n",
    "#Order and re-label\n",
    "group_vec <- c(\"M001:Cont\", \"M001:Acar\", \"M001:17aE\", \"M001:Rapa\", \"M004:Cont\", \"M004:4EGI\")\n",
    "temp <- temp %>%\n",
    "    dplyr::rename(`M001:Acar`=Acarbose, `M001:Cont`=`Control (M001)`,\n",
    "                  `M001:17aE`=Estradiol, `M001:Rapa`=Rapamycin,\n",
    "                  `M004:Cont`=`Control (M004)`, `M004:4EGI`=`4EGI-1`) %>%\n",
    "    dplyr::select(ModuleID, all_of(group_vec))\n",
    "print(str_c(\"nrow: \",nrow(temp)))\n",
    "head(temp)\n",
    "summary(temp)\n",
    "\n",
    "rci_kk <- temp"
   ]
  },
  {
   "cell_type": "markdown",
   "id": "635fe503-7be6-41ef-bd5f-cb85ffd370ef",
   "metadata": {},
   "source": [
    "### 3-2. Repeated Student's t-tests"
   ]
  },
  {
   "cell_type": "markdown",
   "id": "027c941a-5eb3-4805-af12-c7e37ca0090c",
   "metadata": {},
   "source": [
    "> In this study, RCI was not normalized (i.e., the expected mean and variance were different between M001 and M004 datasets due to different sample size).  \n",
    "> –> Therefore, not Dunnett's test but Student's t-test (i.e., t-test with pooled variance) is used because RCI is NOT comparable across datasets (i.e., Control group is different between datasets).  "
   ]
  },
  {
   "cell_type": "markdown",
   "id": "9d3f36d0-625f-4174-ac81-96deeeffc6a8",
   "metadata": {},
   "source": [
    "#### 3-2-1. Simultaneously perform all tests"
   ]
  },
  {
   "cell_type": "code",
   "execution_count": null,
   "id": "13daf987-08e0-4b77-8c10-18777b5d1055",
   "metadata": {},
   "outputs": [],
   "source": [
    "#Prepare contrast labels\n",
    "contrast_vec <- c(\"M001:Acar-vs-M001:Cont\", \"M001:17aE-vs-M001:Cont\", \"M001:Rapa-vs-M001:Cont\",\n",
    "                  \"M004:4EGI-vs-M004:Cont\")\n",
    "\n",
    "#Prepare DF\n",
    "temp1 <- rci_kk %>%\n",
    "    tidyr::gather(key=Group, value=RCI, -ModuleID)\n",
    "temp <- tibble()\n",
    "for (comparison in contrast_vec) {\n",
    "    contrast <- str_split(comparison, \"-vs-\", simplify=TRUE)[1]\n",
    "    baseline <- str_split(comparison, \"-vs-\", simplify=TRUE)[2]\n",
    "    temp2 <- temp1 %>%\n",
    "        dplyr::filter(Group==!!contrast) %>%\n",
    "        dplyr::select(ModuleID, Group, RCI) %>%\n",
    "        dplyr::rename(Group_contrast=Group,\n",
    "                      RCI_contrast=RCI)\n",
    "    temp3 <- temp1 %>%\n",
    "        dplyr::filter(Group==!!baseline) %>%\n",
    "        dplyr::select(ModuleID, Group, RCI) %>%\n",
    "        dplyr::rename(Group_baseline=Group,\n",
    "                      RCI_baseline=RCI)\n",
    "    temp <- dplyr::left_join(temp2, temp3, by=\"ModuleID\") %>%\n",
    "        dplyr::mutate(Comparison=!!comparison) %>%\n",
    "        dplyr::select(Comparison, ModuleID,\n",
    "                      Group_contrast, RCI_contrast, Group_baseline, RCI_baseline) %>%\n",
    "        dplyr::bind_rows(temp, .)\n",
    "}\n",
    "print(nrow(temp))\n",
    "head(temp)\n",
    "\n",
    "#Simultaneously perform all tests using tidyr::nest()\n",
    "temp <- temp %>%\n",
    "    dplyr::group_by(Comparison) %>%\n",
    "    tidyr::nest() %>%#New column name becomes \"data\"\n",
    "    dplyr::mutate(Student=lapply(data, function(tbl) {\n",
    "        t.test(tbl$RCI_contrast, tbl$RCI_baseline, alternative=\"two.sided\", mu=0,\n",
    "               paired=FALSE, var.equal=TRUE, conf.level=0.95)})) %>%\n",
    "    dplyr::ungroup()\n",
    "print(nrow(temp))\n",
    "print(head(temp))#print() because Jupyter Lab tries to display list contents\n",
    "\n",
    "model <- temp"
   ]
  },
  {
   "cell_type": "code",
   "execution_count": null,
   "id": "a6c3bda5-1aba-4b08-a8a4-ac35bf9c909f",
   "metadata": {},
   "outputs": [],
   "source": [
    "#Check result object\n",
    "temp <- model$Student[[1]]\n",
    "summary(temp)\n",
    "for (name in rownames(summary(temp))) {\n",
    "    print(name)\n",
    "    print(temp[[name]])\n",
    "    print(\"\")\n",
    "}"
   ]
  },
  {
   "cell_type": "markdown",
   "id": "3a9c44e6-ee77-42dc-8fef-f20187cb0651",
   "metadata": {},
   "source": [
    "#### 3-2-2. Summarize all result objects into a table"
   ]
  },
  {
   "cell_type": "code",
   "execution_count": null,
   "id": "1472b0da-40df-465b-8415-709673b764bc",
   "metadata": {},
   "outputs": [],
   "source": [
    "#Prepare summary table\n",
    "temp <- tibble(ModuleID=\"All\")\n",
    "for (i in 1:length(contrast_vec)) {\n",
    "    label <- contrast_vec[i]\n",
    "    temp <- model %>%\n",
    "        dplyr::filter(Comparison==!!label) %>%\n",
    "        dplyr::mutate(\"{label}_DF\":=sapply(Student, function(htest) {unname(htest[[\"parameter\"]])}),\n",
    "                      \"{label}_Coef\":=sapply(Student, function(htest) {\n",
    "                          unname(htest[[\"estimate\"]][1]-htest[[\"estimate\"]][2])}),\n",
    "                      \"{label}_CoefSE\":=sapply(Student, function(htest) {unname(htest[[\"stderr\"]])}),\n",
    "                      \"{label}_tStat\":=sapply(Student, function(htest) {unname(htest[[\"statistic\"]])}),\n",
    "                      \"{label}_Pval\":=sapply(Student, function(htest) {unname(htest[[\"p.value\"]])}),\n",
    "                      \"{label}_AdjPval\":=1.0) %>%#Insert dummy column for now\n",
    "        dplyr::select(-Comparison, -data, -Student) %>%\n",
    "        dplyr::bind_cols(temp, .)\n",
    "}\n",
    "##P-value adjustment across datasets with the Holm-Bonferroni method\n",
    "temp1 <- temp %>%\n",
    "    dplyr::select(ModuleID, all_of(str_c(contrast_vec,\"_Pval\"))) %>%\n",
    "    tidyr::gather(key=ColName, value=Pval, -ModuleID) %>%\n",
    "    dplyr::group_by(ModuleID) %>%\n",
    "    dplyr::mutate(AdjPval=p.adjust(Pval, method=\"holm\")) %>%\n",
    "    dplyr::ungroup() %>%\n",
    "    dplyr::select(-Pval) %>%\n",
    "    dplyr::mutate(ColName=str_replace(ColName, \"_Pval\", \"_AdjPval_temp\")) %>%\n",
    "    tidyr::spread(key=ColName, value=AdjPval)\n",
    "##Replace the dummy values with the adjusted p-values\n",
    "temp <- dplyr::left_join(temp, temp1, by=\"ModuleID\")\n",
    "for (i in 1:length(contrast_vec)) {\n",
    "    label <- contrast_vec[i]\n",
    "    temp <- temp %>%\n",
    "        dplyr::mutate(\"{label}_AdjPval\":=!!as.name(str_c(label,\"_AdjPval_temp\"))) %>%\n",
    "        dplyr::select(-!!as.name(str_c(label,\"_AdjPval_temp\")))\n",
    "}\n",
    "print(str_c(\"nrow: \",nrow(temp)))\n",
    "head(temp)\n",
    "\n",
    "summary_tbl <- temp"
   ]
  },
  {
   "cell_type": "code",
   "execution_count": null,
   "id": "19a69835-beaa-40d2-b774-b89931c4f16e",
   "metadata": {},
   "outputs": [],
   "source": [
    "#Add general statistics\n",
    "##Calculate general statistics\n",
    "sem <- function(x) {sd(x)/sqrt(length(x))}\n",
    "temp <- rci_kk %>%\n",
    "    tidyr::gather(key=Group, value=RCI, -ModuleID) %>%\n",
    "    dplyr::group_by(Group) %>%\n",
    "    dplyr::summarize(Count=n(), RCImean=mean(RCI), RCIsem=sem(RCI))\n",
    "temp1 <- tibble(ModuleID=\"All\")\n",
    "for (group in group_vec) {\n",
    "    count <- temp$Count[which(temp$Group==group)]\n",
    "    rcimean <- temp$RCImean[which(temp$Group==group)]\n",
    "    rcisem <- temp$RCIsem[which(temp$Group==group)]\n",
    "    temp1 <- temp1 %>%\n",
    "        dplyr::mutate(\"{group}_N\":=!!count,\n",
    "                      \"{group}_RCImean\":=!!rcimean,\n",
    "                      \"{group}_RCIsem\":=!!rcisem)\n",
    "}\n",
    "print(str_c(\"nrow: \",nrow(temp1)))\n",
    "head(temp1)\n",
    "##Merge\n",
    "temp <- dplyr::left_join(temp1, summary_tbl, by=\"ModuleID\")\n",
    "print(str_c(\"nrow: \",nrow(temp)))\n",
    "head(temp)\n",
    "\n",
    "summary_tbl <- temp"
   ]
  },
  {
   "cell_type": "code",
   "execution_count": null,
   "id": "cb2af571-506a-404c-ba80-5762649dd00c",
   "metadata": {},
   "outputs": [],
   "source": [
    "#Create a workbook object to save as one single .xlsx file\n",
    "workbook <- createWorkbook()\n",
    "\n",
    "#Prepare module metadata sheet\n",
    "sheetName <- \"ModuleMetadata\"\n",
    "addWorksheet(workbook, sheetName=sheetName)\n",
    "writeData(workbook, sheetName, module_meta)\n",
    "\n",
    "#Save the summary table as a new sheet\n",
    "sheetName <- \"RCImean\"\n",
    "addWorksheet(workbook, sheetName=sheetName)\n",
    "writeData(workbook, sheetName, summary_tbl)\n",
    "\n",
    "#Save the workbook as one single .xlsx file\n",
    "fileDir <- \"./ExportData/\"\n",
    "ipynbName <- \"220529_LCproteomics-M004-DIRAC_StatisticalTest-GOBP-with-M001_ver2-3_\"\n",
    "fileName <- \"inter-group-comparison.xlsx\"\n",
    "saveWorkbook(workbook, file=str_c(fileDir,ipynbName,fileName), overwrite=TRUE)"
   ]
  },
  {
   "cell_type": "markdown",
   "id": "2882a781-61a1-4164-ac2a-5c30aba77d0b",
   "metadata": {},
   "source": [
    "# — †1. Go back to †1 of the main Python notebook —  "
   ]
  },
  {
   "cell_type": "markdown",
   "id": "9eb45ae4-08a2-496a-b653-59aa998aafcd",
   "metadata": {},
   "source": [
    "## 4. Rank matching score under the M004 consensus: inter-group module comparison"
   ]
  },
  {
   "cell_type": "markdown",
   "id": "c2278c1d-96d1-4d5c-a283-b6a4753064d5",
   "metadata": {},
   "source": [
    "> Test specific hypotheses: control RMS mean == intervention RMS mean per the M004-derived rank consensus for each module (i.e., inter-group module comparison).  \n",
    ">\n",
    "> 1. Testing the main effect of intervention on rank mathing scores (RMSs) for each module using ANOVA models  \n",
    "> 2. Then, performing post-hoc comparisons of RMSs between control vs. each intervention using the repeated Student's t-tests  \n",
    ">\n",
    "> As well as using sex-pooled rank consensus, sex is NOT included in the ANOVA model. Instead of adding the rank consensus group (i.e., M004 group) and its interaction term to the ANOVA model, stratified ANOVA model is generated for each rank consensus group. Note that ANOVA can shrink the variance utilizing all samples (per module), whose statistical power is better than the repeated Welch's t-tests in the case of small sample size. Although tricky, the P-value adjustment in (1) is performed across all models (= modules x rank consensus groups) under the assumption that modules are independent, which would be more conservative and less likely raise referees' eyebrows for venn diagram-type summary than using nominal P-value cutoff. Because the post-hoc comparisons (2) are to address the similarity of each intervention within a specific module, the P-values are adjusted across interventions only within the module (not across modules). At the same time, these P-values are simultaneously adjusted across rank consensus groups within the module, because the hypotheses across rank consensus are independent in contrast to the previous M001-alone DIRAC analysis. Note that not Dunnett's test but Student's t-test (i.e., t-test with pooled variance) is used as the post-hoc test because further adjustment of the Dunnett's test p-values with the Holm-Bonferroni method is too much (incorrect) adjustment for family-wise error rate (FWER)."
   ]
  },
  {
   "cell_type": "markdown",
   "id": "654d5af9-01a4-45bd-a563-f792d730c52f",
   "metadata": {},
   "source": [
    "### 4-1. ANOVA test (RMS ~ Intervention), followed by repeated Student's t-tests (Intervention)"
   ]
  },
  {
   "cell_type": "markdown",
   "id": "9871a912-9b3a-4ef6-b744-82019c8570e7",
   "metadata": {},
   "source": [
    "#### 4-1-1. Simultaneously perform all ANOVA tests"
   ]
  },
  {
   "cell_type": "code",
   "execution_count": null,
   "id": "7d127f7c-667a-4ccc-8bcd-c7a4e7b30b9d",
   "metadata": {},
   "outputs": [],
   "source": [
    "#Prepare DF\n",
    "template_vec <- c(\"Control (M004)\", \"4EGI-1\")\n",
    "temp <- rms_tbl %>%\n",
    "    dplyr::filter(Template %in% template_vec) %>%\n",
    "    tidyr::gather(key=SampleID, value=RMS, -ModuleID, -Template) %>%\n",
    "    dplyr::left_join(., sample_meta, by=\"SampleID\") %>%\n",
    "    dplyr::filter(!(Phenotype %in% template_vec)) %>%#Eliminate the non-target groups\n",
    "    dplyr::mutate(Intervention=str_replace(Intervention, \"Estradiol\", \"17aE\")) %>%#Exception\n",
    "    dplyr::mutate(Intervention=str_c(Dataset,\":\",str_sub(Intervention, start=1, end=4))) %>%\n",
    "    dplyr::mutate(Dataset=factor(Dataset, levels=c(\"M001\", \"M004\")),\n",
    "                  Intervention=factor(Intervention, levels=group_vec),\n",
    "                  Sex=factor(Sex, levels=c(\"F\", \"M\")))\n",
    "print(nrow(temp))\n",
    "head(temp)\n",
    "\n",
    "#Simultaneously perform all tests using tidyr::nest()\n",
    "temp <- temp %>%\n",
    "    dplyr::group_by(ModuleID, Template) %>%\n",
    "    tidyr::nest() %>%#New column name becomes \"data\"\n",
    "    dplyr::mutate(ANOVA=lapply(data, function(tbl) {aov(RMS~Intervention, data=tbl)})) %>%\n",
    "    dplyr::ungroup()\n",
    "print(nrow(temp))\n",
    "print(head(temp))#print() because Jupyter Lab tries to display list contents\n",
    "\n",
    "model1 <- temp"
   ]
  },
  {
   "cell_type": "code",
   "execution_count": null,
   "id": "57c017b9-34a8-4291-86aa-a47800ee133e",
   "metadata": {},
   "outputs": [],
   "source": [
    "#Check result object\n",
    "summary(model1$ANOVA[[1]])"
   ]
  },
  {
   "cell_type": "markdown",
   "id": "43911a6e-0b3a-4f58-a161-8a564fe8a3a6",
   "metadata": {},
   "source": [
    "#### 4-1-2. Simultaneously perform all Student's t-tests"
   ]
  },
  {
   "cell_type": "code",
   "execution_count": null,
   "id": "470498aa-be8b-4672-8251-758937fda331",
   "metadata": {},
   "outputs": [],
   "source": [
    "#Prepare DF\n",
    "temp1 <- rms_tbl %>%\n",
    "    dplyr::filter(Template %in% template_vec) %>%\n",
    "    tidyr::gather(key=SampleID, value=RMS, -ModuleID, -Template) %>%\n",
    "    dplyr::left_join(., sample_meta, by=\"SampleID\") %>%\n",
    "    dplyr::mutate(Intervention=str_replace(Intervention, \"Estradiol\", \"17aE\")) %>%#Exception\n",
    "    dplyr::mutate(Intervention=str_c(Dataset,\":\",str_sub(Intervention, start=1, end=4))) %>%\n",
    "    dplyr::mutate(Dataset=factor(Dataset, levels=c(\"M001\", \"M004\")),\n",
    "                  Intervention=factor(Intervention, levels=group_vec),\n",
    "                  Sex=factor(Sex, levels=c(\"F\", \"M\")))\n",
    "comparison_vec <- c(\"M001:Acar-vs-M001:Cont\", \"M001:17aE-vs-M001:Cont\", \"M001:Rapa-vs-M001:Cont\")\n",
    "temp <- tibble()\n",
    "for (comparison in comparison_vec) {\n",
    "    contrast <- str_split(comparison, \"-vs-\", simplify=TRUE)[1]\n",
    "    baseline <- str_split(comparison, \"-vs-\", simplify=TRUE)[2]\n",
    "    temp2 <- temp1 %>%\n",
    "        dplyr::filter(Intervention==!!contrast) %>%\n",
    "        dplyr::select(ModuleID, Template, SampleID, RMS) %>%\n",
    "        dplyr::rename(SampleID_contrast=SampleID,\n",
    "                      RMS_contrast=RMS) %>%\n",
    "        dplyr::group_by(ModuleID, Template) %>%\n",
    "        dplyr::mutate(Sample_i=1:n()) %>%#Just for handling; no correspondence b/w baseline and contrast\n",
    "        dplyr::ungroup()\n",
    "    temp3 <- temp1 %>%\n",
    "        dplyr::filter(Intervention==!!baseline) %>%\n",
    "        dplyr::select(ModuleID, Template, SampleID, RMS) %>%\n",
    "        dplyr::rename(SampleID_baseline=SampleID,\n",
    "                      RMS_baseline=RMS) %>%\n",
    "        dplyr::group_by(ModuleID, Template) %>%\n",
    "        dplyr::mutate(Sample_i=1:n()) %>%#Just for handling; no correspondence b/w baseline and contrast\n",
    "        dplyr::ungroup()\n",
    "    temp <- dplyr::full_join(temp2, temp3, by=c(\"ModuleID\", \"Template\", \"Sample_i\")) %>%\n",
    "        dplyr::mutate(Comparison=!!comparison) %>%\n",
    "        dplyr::select(ModuleID, Template, Comparison, Sample_i,\n",
    "                      SampleID_contrast, RMS_contrast, SampleID_baseline, RMS_baseline) %>%\n",
    "        dplyr::bind_rows(temp, .)\n",
    "}\n",
    "print(nrow(temp))\n",
    "head(temp)\n",
    "\n",
    "#Check NAs which can be derived by full_join when sample size is different b/w baseline and contrast\n",
    "temp1 <- temp %>%\n",
    "    dplyr::filter(is.na(RMS_contrast)|is.na(RMS_baseline)) %>%\n",
    "    dplyr::group_by(ModuleID, Template, Comparison) %>%\n",
    "    dplyr::summarize(Count=n()) %>%\n",
    "    dplyr::ungroup()\n",
    "print(str_c('Test with different sample size: ',nrow(temp1)))\n",
    "\n",
    "#Simultaneously perform all tests using tidyr::nest()\n",
    "temp <- temp %>%\n",
    "    dplyr::group_by(ModuleID, Template, Comparison) %>%\n",
    "    tidyr::nest() %>%#New column name becomes \"data\"\n",
    "    dplyr::mutate(Student=lapply(data, function(tbl) {\n",
    "        t.test(tbl$RMS_contrast, tbl$RMS_baseline, alternative=\"two.sided\", mu=0,\n",
    "               paired=FALSE, var.equal=TRUE, conf.level=0.95)})) %>%\n",
    "    dplyr::ungroup()\n",
    "print(nrow(temp))\n",
    "print(head(temp))#print() because Jupyter Lab tries to display list contents\n",
    "\n",
    "model2 <- temp"
   ]
  },
  {
   "cell_type": "code",
   "execution_count": null,
   "id": "28a6bb02-d2f3-4908-af3c-e5b39b5a94ca",
   "metadata": {},
   "outputs": [],
   "source": [
    "#Check result object\n",
    "temp <- model2$Student[[1]]\n",
    "summary(temp)\n",
    "for (name in rownames(summary(temp))) {\n",
    "    print(name)\n",
    "    print(temp[[name]])\n",
    "    print(\"\")\n",
    "}"
   ]
  },
  {
   "cell_type": "markdown",
   "id": "165a45fc-8b42-4b8e-8e23-ef8699578dc0",
   "metadata": {},
   "source": [
    "#### 4-1-3. Summarize all result objects into a table"
   ]
  },
  {
   "cell_type": "code",
   "execution_count": null,
   "id": "8d1dddf8-679a-4033-b1d6-5fa32f2b2386",
   "metadata": {},
   "outputs": [],
   "source": [
    "#Prepare variable labels\n",
    "variable_vec <- rownames(summary(model1$ANOVA[[1]])[[1]]) %>%\n",
    "    str_replace(., \" *$\", \"\")#Remove white spaces\n",
    "variable_vec <- variable_vec[1:(length(variable_vec)-1)]#Remove Residuals\n",
    "\n",
    "#Prepare summary table of ANOVA tests\n",
    "temp1 <- model1 %>%\n",
    "    dplyr::select(ModuleID, Template, ANOVA)\n",
    "for (i in 1:length(variable_vec)) {\n",
    "    label <- variable_vec[i]\n",
    "    temp1 <- temp1 %>%\n",
    "        dplyr::mutate(\"{label}_DF\":=sapply(ANOVA, function(aov) {summary(aov)[[1]]$Df[i]}),\n",
    "                      \"{label}_SumSq\":=sapply(ANOVA, function(aov) {summary(aov)[[1]]$`Sum Sq`[i]}),\n",
    "                      \"{label}_MeanSq\":=sapply(ANOVA, function(aov) {summary(aov)[[1]]$`Mean Sq`[i]}),\n",
    "                      \"{label}_Fstat\":=sapply(ANOVA, function(aov) {summary(aov)[[1]]$`F value`[i]}),\n",
    "                      \"{label}_Pval\":=sapply(ANOVA, function(aov) {summary(aov)[[1]]$`Pr(>F)`[i]})) %>%\n",
    "        #P-value adjustment with the Benjamini-Hochberg method\n",
    "        ##Using !!as.name() in the following line, because simple {{}} and !! didn't recognize?\n",
    "        dplyr::mutate(\"{label}_AdjPval\":=p.adjust(!!as.name(str_c(label,\"_Pval\")), method=\"BH\"))\n",
    "}\n",
    "temp1 <- temp1 %>%\n",
    "    dplyr::select(-ANOVA)\n",
    "print(str_c(\"nrow: \",nrow(temp1)))\n",
    "head(temp1)\n",
    "\n",
    "#Prepare summary table of t-tests\n",
    "temp2 <- model2 %>%\n",
    "    dplyr::select(ModuleID, Template) %>%\n",
    "    dplyr::distinct()\n",
    "for (i in 1:length(comparison_vec)) {\n",
    "    label <- comparison_vec[i]\n",
    "    temp2 <- model2 %>%\n",
    "        dplyr::filter(Comparison==!!label) %>%\n",
    "        dplyr::mutate(\"{label}_DF\":=sapply(Student, function(htest) {unname(htest[[\"parameter\"]])}),\n",
    "                      \"{label}_Coef\":=sapply(Student, function(htest) {\n",
    "                          unname(htest[[\"estimate\"]][1]-htest[[\"estimate\"]][2])}),\n",
    "                      \"{label}_CoefSE\":=sapply(Student, function(htest) {unname(htest[[\"stderr\"]])}),\n",
    "                      \"{label}_tStat\":=sapply(Student, function(htest) {unname(htest[[\"statistic\"]])}),\n",
    "                      \"{label}_Pval\":=sapply(Student, function(htest) {unname(htest[[\"p.value\"]])}),\n",
    "                      \"{label}_AdjPval\":=1.0) %>%#Insert dummy column for now\n",
    "        dplyr::select(-Comparison, -data, -Student) %>%\n",
    "        dplyr::left_join(temp2, ., by=c(\"ModuleID\", \"Template\"))\n",
    "}\n",
    "##P-value adjustment across interventions and templates with the Holm-Bonferroni method per module\n",
    "temp3 <- temp2 %>%\n",
    "    dplyr::select(ModuleID, Template, all_of(str_c(comparison_vec,\"_Pval\"))) %>%\n",
    "    tidyr::gather(key=ColName, value=Pval, -ModuleID, -Template) %>%\n",
    "    dplyr::group_by(ModuleID) %>%\n",
    "    dplyr::mutate(AdjPval=p.adjust(Pval, method=\"holm\")) %>%\n",
    "    dplyr::ungroup() %>%\n",
    "    dplyr::select(-Pval) %>%\n",
    "    dplyr::mutate(ColName=str_replace(ColName, \"_Pval\", \"_AdjPval_temp\")) %>%\n",
    "    tidyr::spread(key=ColName, value=AdjPval)\n",
    "##Replace the dummy values with the adjusted p-values\n",
    "temp2 <- dplyr::left_join(temp2, temp3, by=c(\"ModuleID\", \"Template\"))\n",
    "for (i in 1:length(comparison_vec)) {\n",
    "    label <- comparison_vec[i]\n",
    "    temp2 <- temp2 %>%\n",
    "        dplyr::mutate(\"{label}_AdjPval\":=!!as.name(str_c(label,\"_AdjPval_temp\"))) %>%\n",
    "        dplyr::select(-!!as.name(str_c(label,\"_AdjPval_temp\")))\n",
    "}\n",
    "print(str_c(\"nrow: \",nrow(temp2)))\n",
    "head(temp2)\n",
    "\n",
    "#Merge\n",
    "temp <- dplyr::left_join(temp1, temp2, by=c(\"ModuleID\", \"Template\"))\n",
    "print(str_c(\"nrow: \",nrow(temp)))\n",
    "head(temp)\n",
    "\n",
    "summary_tbl <- temp"
   ]
  },
  {
   "cell_type": "code",
   "execution_count": null,
   "id": "13b1fb15-f743-4d89-ba40-5aec3979d98c",
   "metadata": {},
   "outputs": [],
   "source": [
    "#Add general statistics\n",
    "##Calculate general statistics\n",
    "sem <- function(x) {sd(x)/sqrt(length(x))}\n",
    "temp <- rms_tbl %>%\n",
    "    dplyr::filter(Template %in% template_vec) %>%\n",
    "    tidyr::gather(key=SampleID, value=RMS, -ModuleID, -Template) %>%\n",
    "    dplyr::left_join(., sample_meta, by=\"SampleID\") %>%\n",
    "    dplyr::mutate(Intervention=str_replace(Intervention, \"Estradiol\", \"17aE\")) %>%#Exception\n",
    "    dplyr::mutate(Intervention=str_c(Dataset,\":\",str_sub(Intervention, start=1, end=4))) %>%\n",
    "    dplyr::mutate(Dataset=factor(Dataset, levels=c(\"M001\", \"M004\")),\n",
    "                  Intervention=factor(Intervention, levels=group_vec),\n",
    "                  Sex=factor(Sex, levels=c(\"F\", \"M\"))) %>%\n",
    "    dplyr::group_by(ModuleID, Template, Intervention) %>%\n",
    "    dplyr::summarize(Count=n(), RMSmean=mean(RMS), RMSsem=sem(RMS)) %>%\n",
    "    dplyr::ungroup()\n",
    "temp1 <- module_meta %>%\n",
    "    dplyr::select(ModuleID, ModuleName)\n",
    "temp1 <- dplyr::bind_rows(temp1, temp1) %>%\n",
    "    dplyr::mutate(Template=rep(template_vec, each=nrow(module_meta)))\n",
    "for (group in group_vec) {\n",
    "    temp1 <- temp %>%\n",
    "        dplyr::filter(Intervention==!!group) %>%\n",
    "        dplyr::select(-Intervention) %>%\n",
    "        dplyr::rename(\"{group}_N\":=Count,\n",
    "                      \"{group}_RMSmean\":=RMSmean,\n",
    "                      \"{group}_RMSsem\":=RMSsem) %>%\n",
    "        dplyr::left_join(temp1, ., by=c(\"ModuleID\", \"Template\"))\n",
    "}\n",
    "print(str_c(\"nrow: \",nrow(temp1)))\n",
    "head(temp1)\n",
    "temp <- dplyr::left_join(temp1, summary_tbl, by=c(\"ModuleID\", \"Template\")) %>%\n",
    "    dplyr::arrange(Intervention_Pval)\n",
    "print(str_c(\"nrow: \",nrow(temp)))\n",
    "head(temp)\n",
    "\n",
    "summary_tbl <- temp"
   ]
  },
  {
   "cell_type": "markdown",
   "id": "ee0b0fc2-01b4-42e1-8a14-87164f143cb6",
   "metadata": {},
   "source": [
    "> (Note that the beta-coefficient estimate is equivalent to the difference in the mean of RMSs; e.g., Acar-vs-Cont_Coef = Acar_RMSmean - Cont_RMSmean.)  "
   ]
  },
  {
   "cell_type": "code",
   "execution_count": null,
   "id": "e25bf076-2169-4a6d-aee3-7239ca1622f2",
   "metadata": {},
   "outputs": [],
   "source": [
    "#Save by appending to the existing .xlsx file\n",
    "##Load the existing .xlsx file as a new workbook object\n",
    "fileDir <- \"./ExportData/\"\n",
    "ipynbName <- \"220529_LCproteomics-M004-DIRAC_StatisticalTest-GOBP-with-M001_ver2-3_\"\n",
    "fileName <- \"inter-group-comparison.xlsx\"\n",
    "workbook <- loadWorkbook(str_c(fileDir,ipynbName,fileName))\n",
    "##Add the tibble object as a new sheet per template\n",
    "for (template in template_vec) {\n",
    "    temp <- summary_tbl %>%\n",
    "        dplyr::filter(Template==!!template) %>%\n",
    "        dplyr::select(-Template)\n",
    "    print(str_c(\"nrow: \",nrow(temp)))\n",
    "    print(head(temp))\n",
    "    \n",
    "    if (template==\"Control (M004)\") {\n",
    "        sheetName <- \"M004-Cont-fixed-RMSmean\"#Colon not allowed in sheet name in Excel...\n",
    "    } else if (template==\"4EGI-1\") {\n",
    "        sheetName <- \"M004-4EGI-fixed-RMSmean\"#Colon not allowed in sheet name in Excel...\n",
    "    } else {\n",
    "        sheetName <- \"Error?\"\n",
    "    }\n",
    "    addWorksheet(workbook, sheetName=sheetName)\n",
    "    writeData(workbook, sheetName, temp)\n",
    "}\n",
    "##Update the existing .xlsx file\n",
    "saveWorkbook(workbook, file=str_c(fileDir,ipynbName,fileName), overwrite=TRUE)"
   ]
  },
  {
   "cell_type": "markdown",
   "id": "40c06919-111f-4866-8209-02234fb94b95",
   "metadata": {},
   "source": [
    "# — †2. Go back to †2 of the main Python notebook —  "
   ]
  },
  {
   "cell_type": "markdown",
   "id": "71adff3d-628b-4d88-817e-1450a1d14d84",
   "metadata": {},
   "source": [
    "# — Session information —"
   ]
  },
  {
   "cell_type": "code",
   "execution_count": null,
   "id": "5e55c69b-50c9-49fb-8216-6d54a0c9a7ea",
   "metadata": {},
   "outputs": [],
   "source": [
    "sessionInfo()"
   ]
  }
 ],
 "metadata": {
  "kernelspec": {
   "display_name": "arivale-r - R",
   "language": "R",
   "name": "conda-env-arivale-r-r"
  },
  "language_info": {
   "codemirror_mode": "r",
   "file_extension": ".r",
   "mimetype": "text/x-r-source",
   "name": "R",
   "pygments_lexer": "r",
   "version": "4.1.1"
  },
  "widgets": {
   "application/vnd.jupyter.widget-state+json": {
    "state": {},
    "version_major": 2,
    "version_minor": 0
   }
  }
 },
 "nbformat": 4,
 "nbformat_minor": 5
}
