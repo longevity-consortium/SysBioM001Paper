{
 "cells": [
  {
   "cell_type": "markdown",
   "id": "5b6011ef-e893-4785-960f-1c47d4ccb724",
   "metadata": {},
   "source": [
    "# DIRAC Analysis of LC M001-related Transcriptomics — Statistical Tests (GOBP Modules)"
   ]
  },
  {
   "cell_type": "markdown",
   "id": "d7131a63-bf03-4c7f-a214-dd4dc5477daa",
   "metadata": {},
   "source": [
    "***by Kengo Watanabe***  \n",
    "\n",
    "In the main Python notebook, the differential rank conservation (DIRAC; Eddy, J.A. et al. PLoS Comput. Biol. 2010) analysis is performed on the preprocessed Longevity Consortium (LC) M001-related transcriptomics dataset (Tyshkovskiy, A. et al. Cell Metab. 2019; analytes detected in all samples; sample-based robust Z-score followed by analyte-based robust Z-score) using the retrieved a priori module set (Gene Ontology (Biological Process) derived by R org.Mm.eg.db package; ≥4 analytes and ≥50% coverage).  \n",
    "**–> Because Dunnett's test does not seem available in Python yet, statistical tests are performed in this sub-notebook with R kernel.**  \n",
    "\n",
    "Input:  \n",
    "* Cleaned module metadata: 220522_LC-M001-related-transcriptomics-DIRAC_DIRAC-GOBP_ver2-4_module-metadata.tsv  \n",
    "* Preprocessed analyte data (for taking IDs of the samples analyzed in DIRAC analysis): 201221_LC-M001-related-transcriptomics-DIRAC_cleaned-robustZscored.tsv  \n",
    "* Sample–mouse metadata: 201221_LC-M001-related-transcriptomics-DIRAC_metadata.tsv  \n",
    "* Tables of DIRAC RMSs: 210429_LC-M001-related-transcriptomics-DIRAC_DIRAC-GOBP_ver2_orgMmegdb-GOBP_min-n4-cov50_RankMatchingScore-BS-[digit].tsv  \n",
    "* Tables of DIRAC RCIs: 210429_LC-M001-related-transcriptomics-DIRAC_DIRAC-GOBP_ver2_orgMmegdb-GOBP_min-n4-cov50_RankConservationIndex-BS-[digit].tsv  \n",
    "\n",
    "Output:  \n",
    "* Supplementary Data 5  \n",
    "\n",
    "Original notebook (memo for my future tracing):  \n",
    "* dalek:[JupyterLab HOME]/201221_LC-M001-related-transcriptomics-DIRAC/220522_LC-M001-related-transcriptomics-DIRAC_StatisticalTest-GOBP_ver2-4.ipynb  "
   ]
  },
  {
   "cell_type": "code",
   "execution_count": null,
   "id": "f141e4af-e174-4f1a-a88e-7e1396a865cd",
   "metadata": {},
   "outputs": [],
   "source": [
    "library(\"tidyverse\")\n",
    "options(repr.plot.width=5, repr.plot.height=5)#Default=7x7\n",
    "\n",
    "#CRAN\n",
    "for (package in c(\"readxl\", \"multcomp\", \"openxlsx\")) {\n",
    "    #install.packages(package)\n",
    "    eval(bquote(library(.(package))))\n",
    "    print(str_c(package, \": \", as.character(packageVersion(package))))\n",
    "}"
   ]
  },
  {
   "cell_type": "markdown",
   "id": "a650b434-d7ec-4672-b328-1c45f5386d58",
   "metadata": {},
   "source": [
    "## 1. Prepare dataset and metadata"
   ]
  },
  {
   "cell_type": "code",
   "execution_count": null,
   "id": "d02334e8-8a46-445a-a85f-33f62cef518c",
   "metadata": {},
   "outputs": [],
   "source": [
    "#Import module metadata\n",
    "fileDir <- \"./ExportData/\"\n",
    "ipynbName <- \"220522_LC-M001-related-transcriptomics-DIRAC_DIRAC-GOBP_ver2-4_\"\n",
    "fileName <- \"module-metadata.tsv\"\n",
    "temp <- read_delim(str_c(fileDir,ipynbName,fileName), delim=\"\\t\")\n",
    "print(str_c(\"nrow: \",nrow(temp)))\n",
    "head(temp)\n",
    "\n",
    "module_meta <- temp"
   ]
  },
  {
   "cell_type": "code",
   "execution_count": null,
   "id": "88d6b360-6fbc-41b0-b7db-293c6b31555e",
   "metadata": {},
   "outputs": [],
   "source": [
    "#Extract the samples to be analyzed in DIRAC analysis\n",
    "fileDir <- \"./ExportData/\"\n",
    "ipynbName <- \"201221_LC-M001-related-transcriptomics-DIRAC_\"\n",
    "fileName <- \"cleaned-robustZscored.tsv\"\n",
    "temp <- read_delim(str_c(fileDir,ipynbName,fileName), delim=\"\\t\")\n",
    "\n",
    "#Import sample-mouse metadata\n",
    "fileDir <- \"./ExportData/\"\n",
    "ipynbName <- \"201221_LC-M001-related-transcriptomics-DIRAC_\"\n",
    "fileName <- \"metadata.tsv\"\n",
    "temp <- read_delim(str_c(fileDir,ipynbName,fileName), delim=\"\\t\") %>%\n",
    "    dplyr::rename(SampleID=ID) %>%\n",
    "    dplyr::filter(SampleID %in% names(temp)) %>%\n",
    "    dplyr::select(SampleID, Intervention, Sex, Age) %>%\n",
    "    dplyr::mutate(Intervention=str_replace(Intervention, \"-\", \"Control\")) %>%\n",
    "    dplyr::mutate(Intervention=str_replace(Intervention, \"Acarbose\", \"Acarbose\")) %>%\n",
    "    dplyr::mutate(Intervention=str_replace(Intervention, \"Rapamycin\", \"Rapamycin\")) %>%\n",
    "    dplyr::mutate(Intervention=str_replace(Intervention, \"CR\", \"Calorie restriction\")) %>%\n",
    "    dplyr::mutate(Phenotype=Intervention)\n",
    "print(str_c(\"nrow: \",nrow(temp)))\n",
    "head(temp)\n",
    "\n",
    "sample_meta <- temp"
   ]
  },
  {
   "cell_type": "markdown",
   "id": "5dd97189-83f7-46cd-963a-41d91d2be9db",
   "metadata": {},
   "source": [
    "## 2. Perform DIRAC with sex-pooled rank consensus"
   ]
  },
  {
   "cell_type": "code",
   "execution_count": null,
   "id": "e38eb396-73bf-422a-a489-b37e07f7aade",
   "metadata": {},
   "outputs": [],
   "source": [
    "#Import the DIRAC results\n",
    "nSub <- 25\n",
    "fileDir <- \"./ExportData/\"\n",
    "ipynbName <- \"210429_LC-M001-related-transcriptomics-DIRAC_DIRAC-GOBP_ver2_\"\n",
    "rms_tbl <- tibble()\n",
    "rci_tbl <- tibble()\n",
    "for (list_i in 1:nSub) {\n",
    "    index <- str_pad(as.character(list_i), 2, side=\"left\", pad=\"0\")\n",
    "    fileName <- str_c(\"orgMmegdb-GOBP_min-n4-cov50_RankMatchingScore-BS-\",index,\".tsv\")\n",
    "    rms_tbl <- read_delim(str_c(fileDir,ipynbName,fileName), delim=\"\\t\", show_col_types=FALSE) %>%\n",
    "        dplyr::rename(ModuleID=NetworkID) %>%\n",
    "        dplyr::bind_rows(rms_tbl, .)\n",
    "    fileName <- str_c(\"orgMmegdb-GOBP_min-n4-cov50_RankConservationIndex-BS-\",index,\".tsv\")\n",
    "    rci_tbl <- read_delim(str_c(fileDir,ipynbName,fileName), delim=\"\\t\", show_col_types=FALSE) %>%\n",
    "        dplyr::rename(ModuleID=NetworkID) %>%\n",
    "        dplyr::bind_rows(rci_tbl, .)\n",
    "}\n",
    "print(str_c(\"nrow: \",nrow(rms_tbl)))\n",
    "head(rms_tbl)\n",
    "print(str_c(\"nrow: \",nrow(rci_tbl)))\n",
    "head(rci_tbl)"
   ]
  },
  {
   "cell_type": "markdown",
   "id": "10c79bc7-851c-40d4-9f10-60641d06fa20",
   "metadata": {},
   "source": [
    "## 3. Rank conservation index: general pattern"
   ]
  },
  {
   "cell_type": "markdown",
   "id": "868129d3-86ff-4673-893e-7f40944e0374",
   "metadata": {},
   "source": [
    "### 3-1. Extract RCI (the mean of RMSs under the own phenotype consensus)"
   ]
  },
  {
   "cell_type": "code",
   "execution_count": null,
   "id": "dceebc00-ab0c-4174-946b-dcbf06145388",
   "metadata": {},
   "outputs": [],
   "source": [
    "#Extract RCI whose template phenotype corresponds to the own phenotype\n",
    "phenotype_vec <- rci_tbl %>%\n",
    "    dplyr::select(-ModuleID, -Template) %>%\n",
    "    names()\n",
    "temp <- tibble(ModuleID=unique(rci_tbl$ModuleID))\n",
    "for (k in phenotype_vec) {\n",
    "    temp <- rci_tbl %>%\n",
    "        dplyr::filter(Template==!!k) %>%\n",
    "        dplyr::select(ModuleID, !!k) %>%\n",
    "        dplyr::left_join(temp, ., by=\"ModuleID\")\n",
    "}\n",
    "#Order and re-label\n",
    "group_vec <- c(\"Cont\", \"Acar\", \"Rapa\", \"Calo\")\n",
    "temp <- temp %>%\n",
    "    dplyr::rename(Acar=Acarbose, Cont=Control, Rapa=Rapamycin, Calo=`Calorie restriction`) %>%\n",
    "    dplyr::select(ModuleID, all_of(group_vec))\n",
    "print(str_c(\"nrow: \",nrow(temp)))\n",
    "head(temp)\n",
    "summary(temp)\n",
    "\n",
    "rci_kk <- temp"
   ]
  },
  {
   "cell_type": "markdown",
   "id": "635fe503-7be6-41ef-bd5f-cb85ffd370ef",
   "metadata": {},
   "source": [
    "### 3-2. Dunnett's test"
   ]
  },
  {
   "cell_type": "code",
   "execution_count": null,
   "id": "13daf987-08e0-4b77-8c10-18777b5d1055",
   "metadata": {},
   "outputs": [],
   "source": [
    "#Perfom Dunnett's test\n",
    "temp <- rci_kk %>%\n",
    "    tidyr::gather(key=Group, value=RCI, -ModuleID) %>%\n",
    "    dplyr::mutate(Group=factor(Group, levels=group_vec))\n",
    "model <- glht(aov(RCI~Group, data=temp), linfct=mcp(Group=\"Dunnett\"), alternative=\"two.sided\")\n",
    "summary(model)"
   ]
  },
  {
   "cell_type": "code",
   "execution_count": null,
   "id": "c9c07d38-2fb2-4648-8e7c-844afaaf075c",
   "metadata": {},
   "outputs": [],
   "source": [
    "#Prepare contrast labels\n",
    "contrast_vec <- names(summary(model)$test$coefficients) %>%\n",
    "    str_replace(., \" - \", \"-vs-\")\n",
    "\n",
    "#Prepare summary table\n",
    "temp <- tibble(ModuleID=\"All\")\n",
    "for (i in 1:length(contrast_vec)) {\n",
    "    label <- contrast_vec[i]\n",
    "    temp <- temp %>%\n",
    "        dplyr::mutate(\"{label}_Coef\":=unname(summary(model)$test$coefficients[i]),\n",
    "                      \"{label}_CoefSE\":=unname(summary(model)$test$sigma[i]),\n",
    "                      \"{label}_tStat\":=unname(summary(model)$test$tstat[i]),\n",
    "                      \"{label}_AdjPval\":=unname(summary(model)$test$pvalues[i]))\n",
    "}\n",
    "print(str_c(\"nrow: \",nrow(temp)))\n",
    "head(temp)\n",
    "\n",
    "summary_tbl <- temp"
   ]
  },
  {
   "cell_type": "code",
   "execution_count": null,
   "id": "19a69835-beaa-40d2-b774-b89931c4f16e",
   "metadata": {},
   "outputs": [],
   "source": [
    "#Add general statistics\n",
    "##Calculate general statistics\n",
    "sem <- function(x) {sd(x)/sqrt(length(x))}\n",
    "temp <- rci_kk %>%\n",
    "    tidyr::gather(key=Group, value=RCI, -ModuleID) %>%\n",
    "    dplyr::mutate(Group=factor(Group, levels=group_vec)) %>%\n",
    "    dplyr::group_by(Group) %>%\n",
    "    dplyr::summarize(Count=n(), RCImean=mean(RCI), RCIsem=sem(RCI))\n",
    "temp1 <- tibble(ModuleID=\"All\")\n",
    "for (group in group_vec) {\n",
    "    rcimean <- temp$RCImean[which(temp$Group==group)]\n",
    "    rcisem <- temp$RCIsem[which(temp$Group==group)]\n",
    "    count <- temp$Count[which(temp$Group==group)]\n",
    "    temp1 <- temp1 %>%\n",
    "        dplyr::mutate(\"{group}_N\":=!!count,\n",
    "                      \"{group}_RCImean\":=!!rcimean,\n",
    "                      \"{group}_RCIsem\":=!!rcisem)\n",
    "}\n",
    "print(str_c(\"nrow: \",nrow(temp1)))\n",
    "head(temp1)\n",
    "##Merge\n",
    "temp <- dplyr::left_join(temp1, summary_tbl, by=\"ModuleID\")\n",
    "print(str_c(\"nrow: \",nrow(temp)))\n",
    "head(temp)\n",
    "\n",
    "summary_tbl <- temp"
   ]
  },
  {
   "cell_type": "code",
   "execution_count": null,
   "id": "cb2af571-506a-404c-ba80-5762649dd00c",
   "metadata": {},
   "outputs": [],
   "source": [
    "#Create a workbook object to save as one single .xlsx file\n",
    "workbook <- createWorkbook()\n",
    "\n",
    "#Prepare module metadata sheet\n",
    "sheetName <- \"ModuleMetadata\"\n",
    "addWorksheet(workbook, sheetName=sheetName)\n",
    "writeData(workbook, sheetName, module_meta)\n",
    "\n",
    "#Save the summary table as a new sheet\n",
    "sheetName <- \"RCImean\"\n",
    "addWorksheet(workbook, sheetName=sheetName)\n",
    "writeData(workbook, sheetName, summary_tbl)\n",
    "\n",
    "#Save the workbook as one single .xlsx file\n",
    "fileDir <- \"./ExportData/\"\n",
    "ipynbName <- \"220522_LC-M001-related-transcriptomics-DIRAC_StatisticalTest-GOBP_ver2-4_\"\n",
    "fileName <- \"inter-group-comparison.xlsx\"\n",
    "saveWorkbook(workbook, file=str_c(fileDir,ipynbName,fileName), overwrite=TRUE)"
   ]
  },
  {
   "cell_type": "markdown",
   "id": "2882a781-61a1-4164-ac2a-5c30aba77d0b",
   "metadata": {},
   "source": [
    "# — †1. Go back to †1 of the main Python notebook —  "
   ]
  },
  {
   "cell_type": "markdown",
   "id": "df9a41a7-6936-4200-a3b6-6821cf25033d",
   "metadata": {},
   "source": [
    "## 4. Rank conservation index: inter-group module comparison"
   ]
  },
  {
   "cell_type": "markdown",
   "id": "eb8003cd-3a58-4d4b-a173-eb5884fc9098",
   "metadata": {},
   "source": [
    "> Test specific hypothesis: control RCI == intervention RCI (i.e., inter-group module comparison).  \n",
    "> 1. Testing the main effect of intervention on rank mathing scores (RMSs) for each module using ANOVA model  \n",
    "> 2. Then, performing post-hoc comparisons of RMSs between control vs. each intervention using Dunnett's test  \n",
    ">  \n",
    "> Since RCI is the mean of RMSs under the own phenotype consensus, not RCI but RMS is practically used to obtain variance around group consensus. As well as using sex-pooled rank consensus, sex is NOT included in the ANOVA model, which is a change from version 2-2. Note that ANOVA can shrink the variance utilizing all samples (per module), whose statistical power is better than the repeated Welch's t-tests (version 2-3) in the case of small sample size. Although tricky, the P-value adjustment in (1) is performed across modules under the assumption that modules are independent, which would be more conservative and less likely raise referees' eyebrows for venn diagram-type summary than using nominal P-value cutoff. Because the post-hoc comparisons (2) are to address the effect of each intervention within a specific module, the P-values are adjusted across interventions only within the module (not across modules) using Dunnett's test.  "
   ]
  },
  {
   "cell_type": "markdown",
   "id": "b322b9f7-1e7e-4ba4-93f1-8c9c9f51ca93",
   "metadata": {},
   "source": [
    "### 4-1. Extract RMS under the own phenotype consensus"
   ]
  },
  {
   "cell_type": "code",
   "execution_count": null,
   "id": "4ba54b1f-707f-4df0-9e32-308f2d69c8a9",
   "metadata": {},
   "outputs": [],
   "source": [
    "#Extract RMS whose template phenotype corresponds to the own phenotype\n",
    "phenotype_vec <- rci_tbl %>%\n",
    "    dplyr::select(-ModuleID, -Template) %>%\n",
    "    names()\n",
    "temp <- tibble(ModuleID=unique(rms_tbl$ModuleID))\n",
    "for (k in phenotype_vec) {\n",
    "    temp1 <- sample_meta %>%\n",
    "        dplyr::filter(Phenotype==!!k) %>%\n",
    "        .$SampleID\n",
    "    temp <- rms_tbl %>%\n",
    "        dplyr::filter(Template==!!k) %>%\n",
    "        dplyr::select(ModuleID, all_of(temp1)) %>%\n",
    "        dplyr::left_join(temp, ., by=\"ModuleID\")\n",
    "}\n",
    "print(str_c(\"nrow: \",nrow(temp)))\n",
    "head(temp)\n",
    "summary(temp[, 1:10])\n",
    "\n",
    "rms_kk <- temp"
   ]
  },
  {
   "cell_type": "markdown",
   "id": "33d103b4-35fd-4a36-89a5-40dcac16ec1a",
   "metadata": {},
   "source": [
    "### 4-2. ANOVA test (RMS ~ Intervention), followed by Dunnett's test (Intervention)"
   ]
  },
  {
   "cell_type": "markdown",
   "id": "9672fd8b-3cd5-4eb8-90b2-a7d30ac1b986",
   "metadata": {},
   "source": [
    "#### 4-2-1. Simultaneously perform all tests"
   ]
  },
  {
   "cell_type": "code",
   "execution_count": null,
   "id": "b0546d76-27a1-4d54-be84-3b55e3fd4210",
   "metadata": {},
   "outputs": [],
   "source": [
    "#Prepare DF\n",
    "temp <- rms_kk %>%\n",
    "    tidyr::gather(key=SampleID, value=RMS, -ModuleID) %>%\n",
    "    dplyr::left_join(., sample_meta, by=\"SampleID\") %>%\n",
    "    dplyr::mutate(Intervention=str_replace(Intervention, \"Control\", \"Cont\")) %>%\n",
    "    dplyr::mutate(Intervention=str_replace(Intervention, \"Acarbose\", \"Acar\")) %>%\n",
    "    dplyr::mutate(Intervention=str_replace(Intervention, \"Rapamycin\", \"Rapa\")) %>%\n",
    "    dplyr::mutate(Intervention=str_replace(Intervention, \"Calorie restriction\", \"Calo\")) %>%\n",
    "    dplyr::mutate(Intervention=factor(Intervention, levels=group_vec),\n",
    "                  Sex=factor(Sex, levels=c(\"F\", \"M\")),\n",
    "                  Age=factor(str_c(as.character(Age),\"m\"), levels=c(\"6m\", \"12m\")))\n",
    "print(nrow(temp))\n",
    "head(temp)\n",
    "\n",
    "#Simultaneously perform all tests using tidyr::nest()\n",
    "temp <- temp %>%\n",
    "    dplyr::group_by(ModuleID) %>%\n",
    "    tidyr::nest() %>%#New column name becomes \"data\"\n",
    "    dplyr::mutate(ANOVA=lapply(data, function(tbl) {aov(RMS~Intervention, data=tbl)}),\n",
    "                  Dunnett=lapply(data, function(tbl) {\n",
    "                      glht(aov(RMS~Intervention, data=tbl),\n",
    "                           linfct=mcp(Intervention=\"Dunnett\"),\n",
    "                           alternative=\"two.sided\")})) %>%\n",
    "    dplyr::ungroup()\n",
    "print(nrow(temp))\n",
    "print(head(temp))#print() because Jupyter Lab tries to display list contents\n",
    "\n",
    "model <- temp"
   ]
  },
  {
   "cell_type": "code",
   "execution_count": null,
   "id": "20e93fb2-6769-426e-908c-71a572332bc0",
   "metadata": {},
   "outputs": [],
   "source": [
    "#Check result objects\n",
    "summary(model$ANOVA[[1]])\n",
    "summary(model$Dunnett[[1]])"
   ]
  },
  {
   "cell_type": "markdown",
   "id": "4afcf763-dde2-4a51-a47d-1594dcf951b4",
   "metadata": {},
   "source": [
    "#### 4-2-2. Summarize all result objects into a table"
   ]
  },
  {
   "cell_type": "code",
   "execution_count": null,
   "id": "43f13e6a-1a06-49aa-825d-5e1494052c91",
   "metadata": {},
   "outputs": [],
   "source": [
    "#Prepare variable labels\n",
    "variable_vec <- rownames(summary(model$ANOVA[[1]])[[1]]) %>%\n",
    "    str_replace(., \" *$\", \"\")#Remove white spaces\n",
    "variable_vec <- variable_vec[1:(length(variable_vec)-1)]#Remove Residuals\n",
    "\n",
    "#Prepare summary table of ANOVA tests\n",
    "temp1 <- model %>%\n",
    "    dplyr::select(ModuleID, ANOVA)\n",
    "for (i in 1:length(variable_vec)) {\n",
    "    label <- variable_vec[i]\n",
    "    temp1 <- temp1 %>%\n",
    "        dplyr::mutate(\"{label}_DF\":=sapply(ANOVA, function(aov) {summary(aov)[[1]]$Df[i]}),\n",
    "                      \"{label}_SumSq\":=sapply(ANOVA, function(aov) {summary(aov)[[1]]$`Sum Sq`[i]}),\n",
    "                      \"{label}_MeanSq\":=sapply(ANOVA, function(aov) {summary(aov)[[1]]$`Mean Sq`[i]}),\n",
    "                      \"{label}_Fstat\":=sapply(ANOVA, function(aov) {summary(aov)[[1]]$`F value`[i]}),\n",
    "                      \"{label}_Pval\":=sapply(ANOVA, function(aov) {summary(aov)[[1]]$`Pr(>F)`[i]})) %>%\n",
    "        #P-value adjustment with the Benjamini-Hochberg method\n",
    "        ##Using !!as.name() in the following line, because simple {{}} and !! didn't recognize?\n",
    "        dplyr::mutate(\"{label}_AdjPval\":=p.adjust(!!as.name(str_c(label,\"_Pval\")), method=\"BH\"))\n",
    "}\n",
    "temp1 <- temp1 %>%\n",
    "    dplyr::select(-ANOVA)\n",
    "print(str_c(\"nrow: \",nrow(temp1)))\n",
    "head(temp1)\n",
    "\n",
    "#Prepare contrast labels\n",
    "contrast_vec <- names(summary(model$Dunnett[[1]])$test$coefficients) %>%\n",
    "    str_replace(., \" - \", \"-vs-\")\n",
    "\n",
    "#Prepare summary table\n",
    "temp2 <- model %>%\n",
    "    dplyr::select(ModuleID, Dunnett)\n",
    "for (i in 1:length(contrast_vec)) {\n",
    "    label <- contrast_vec[i]\n",
    "    temp2 <- temp2 %>%\n",
    "        dplyr::mutate(\"{label}_Coef\":=sapply(Dunnett, function(glht) {unname(summary(glht)$test$coefficients[i])}),\n",
    "                      \"{label}_CoefSE\":=sapply(Dunnett, function(glht) {unname(summary(glht)$test$sigma[i])}),\n",
    "                      \"{label}_tStat\":=sapply(Dunnett, function(glht) {unname(summary(glht)$test$tstat[i])}),\n",
    "                      \"{label}_AdjPval\":=sapply(Dunnett, function(glht) {unname(summary(glht)$test$pvalues[i])}))\n",
    "}\n",
    "temp2 <- temp2 %>%\n",
    "    dplyr::select(-Dunnett)\n",
    "print(str_c(\"nrow: \",nrow(temp2)))\n",
    "head(temp2)\n",
    "\n",
    "#Merge\n",
    "temp <- dplyr::left_join(temp1, temp2, by=\"ModuleID\")\n",
    "print(str_c(\"nrow: \",nrow(temp)))\n",
    "head(temp)\n",
    "\n",
    "summary_tbl <- temp"
   ]
  },
  {
   "cell_type": "markdown",
   "id": "5b1b0959-f564-48fb-b6d4-e2cffda6aacb",
   "metadata": {},
   "source": [
    "> –> These warnings were due to the models having invariable values (x models x 3 contrasts x 4 sapply() calls).  "
   ]
  },
  {
   "cell_type": "code",
   "execution_count": null,
   "id": "44996e33-91f0-4a30-9f4d-ea2779fa550d",
   "metadata": {},
   "outputs": [],
   "source": [
    "#Add general statistics\n",
    "##Calculate general statistics\n",
    "sem <- function(x) {sd(x)/sqrt(length(x))}\n",
    "temp <- rms_kk %>%\n",
    "    tidyr::gather(key=SampleID, value=RMS, -ModuleID) %>%\n",
    "    dplyr::left_join(., sample_meta, by=\"SampleID\") %>%\n",
    "    dplyr::mutate(Intervention=str_replace(Intervention, \"Control\", \"Cont\")) %>%\n",
    "    dplyr::mutate(Intervention=str_replace(Intervention, \"Acarbose\", \"Acar\")) %>%\n",
    "    dplyr::mutate(Intervention=str_replace(Intervention, \"Rapamycin\", \"Rapa\")) %>%\n",
    "    dplyr::mutate(Intervention=str_replace(Intervention, \"Calorie restriction\", \"Calo\")) %>%\n",
    "    dplyr::mutate(Intervention=factor(Intervention, levels=group_vec),\n",
    "                  Sex=factor(Sex, levels=c(\"F\", \"M\")),\n",
    "                  Age=factor(str_c(as.character(Age),\"m\"), levels=c(\"6m\", \"12m\"))) %>%\n",
    "    dplyr::group_by(ModuleID, Intervention) %>%\n",
    "    dplyr::summarize(Count=n(), RMSmean=mean(RMS), RMSsem=sem(RMS)) %>%\n",
    "    dplyr::ungroup()\n",
    "temp1 <- module_meta %>%\n",
    "    dplyr::select(ModuleID, ModuleName)\n",
    "for (group in group_vec) {\n",
    "    temp1 <- temp %>%\n",
    "        dplyr::filter(Intervention==!!group) %>%\n",
    "        dplyr::select(-Intervention) %>%\n",
    "        dplyr::rename(\"{group}_N\":=Count,\n",
    "                      \"{group}_RMSmean\":=RMSmean,\n",
    "                      \"{group}_RMSsem\":=RMSsem) %>%\n",
    "        dplyr::left_join(temp1, ., by=\"ModuleID\")\n",
    "}\n",
    "print(str_c(\"nrow: \",nrow(temp1)))\n",
    "head(temp1)\n",
    "##Merge\n",
    "temp <- dplyr::left_join(temp1, summary_tbl, by=\"ModuleID\") %>%\n",
    "    dplyr::arrange(Intervention_Pval)\n",
    "print(str_c(\"nrow: \",nrow(temp)))\n",
    "head(temp)\n",
    "\n",
    "summary_tbl <- temp"
   ]
  },
  {
   "cell_type": "markdown",
   "id": "101b604f-e328-4dae-b64a-8b1c49be5c5c",
   "metadata": {},
   "source": [
    "> (Note that the beta-coefficient estimate is equivalent to the difference in the mean of RMSs; e.g., Acar-vs-Cont_Coef = Acar_RMSmean - Cont_RMSmean.)  "
   ]
  },
  {
   "cell_type": "code",
   "execution_count": null,
   "id": "060148ee-28f9-4f52-ab2c-1ac7636dc3dc",
   "metadata": {},
   "outputs": [],
   "source": [
    "#Save by appending to the existing .xlsx file\n",
    "##Load the existing .xlsx file as a new workbook object\n",
    "fileDir <- \"./ExportData/\"\n",
    "ipynbName <- \"220522_LC-M001-related-transcriptomics-DIRAC_StatisticalTest-GOBP_ver2-4_\"\n",
    "fileName <- \"inter-group-comparison.xlsx\"\n",
    "workbook <- loadWorkbook(str_c(fileDir,ipynbName,fileName))\n",
    "##Add the tibble object as a new sheet\n",
    "sheetName <- \"RCI\"\n",
    "addWorksheet(workbook, sheetName=sheetName)\n",
    "writeData(workbook, sheetName, summary_tbl)\n",
    "##Update the existing .xlsx file\n",
    "saveWorkbook(workbook, file=str_c(fileDir,ipynbName,fileName), overwrite=TRUE)\n",
    "\n",
    "#Save this module order to use later in this notebook\n",
    "temp <- summary_tbl %>%\n",
    "    dplyr::select(ModuleID, ModuleName)\n",
    "module_meta <- module_meta %>%\n",
    "    dplyr::select(-ModuleName) %>%\n",
    "    dplyr::left_join(temp, ., by=\"ModuleID\")\n",
    "head(module_meta)"
   ]
  },
  {
   "cell_type": "markdown",
   "id": "3efc0c7e-d20a-4f0b-93c9-2d889288e535",
   "metadata": {},
   "source": [
    "# — †2. Go back to †2 of the main Python notebook —  "
   ]
  },
  {
   "cell_type": "markdown",
   "id": "961bc416-5ff9-4d54-af39-ca81eab576e0",
   "metadata": {},
   "source": [
    "## 5. Rank matching score under a fixed consensus: inter-group module comparison"
   ]
  },
  {
   "cell_type": "markdown",
   "id": "0d2d2dc5-c57b-47ff-b132-12ac40421587",
   "metadata": {},
   "source": [
    "> Test specific hypotheses: control RMS mean == intervention RMS mean per a fixed rank consensus for each module (i.e., inter-group module comparison).  \n",
    ">\n",
    "> 3. performing Dunnett's tests per rank consensus for each module.  \n",
    ">  \n",
    "> Because the main interests are whether the changed patterns are similar or not in a changed module (i.e., this is a downstream analysis of RCI), ANOVA and the p-value adjustment across modules are unnecessary. In all the (3) tests for each rank consensus, the Dunnett's test p-values are NOT further adjusted across all tests because the hypotheses across rank consensus are not independent. In each Dunnett's test, the rank consensus group is eliminated because its mean of RMS is RCI (i.e., expected mean and variance is different) and because the number of hypotheses can be reduced.  "
   ]
  },
  {
   "cell_type": "markdown",
   "id": "51ffb403-d73d-48e1-9578-099daa74dab6",
   "metadata": {},
   "source": [
    "### 5-1. RMS under Ctrl consensus"
   ]
  },
  {
   "cell_type": "code",
   "execution_count": null,
   "id": "77372cd3-1ab4-4435-85bf-3a2b2f4b58ff",
   "metadata": {},
   "outputs": [],
   "source": [
    "template <- \"Control\""
   ]
  },
  {
   "cell_type": "markdown",
   "id": "d08bdc90-8edf-4c60-82f2-f806ec47f24a",
   "metadata": {},
   "source": [
    "#### 5-1-1. Extract RMS under the fixed consensus"
   ]
  },
  {
   "cell_type": "code",
   "execution_count": null,
   "id": "d8585616-8e77-4222-8997-62f7455b1c21",
   "metadata": {},
   "outputs": [],
   "source": [
    "#Extract RMS whose template phenotype corresponds to the fixed phenotype\n",
    "temp <- rms_tbl %>%\n",
    "    dplyr::filter(Template==!!template) %>%\n",
    "    dplyr::select(-Template)\n",
    "print(str_c(\"nrow: \",nrow(temp)))\n",
    "head(temp)\n",
    "summary(temp[, 1:10])\n",
    "\n",
    "rms_kk <- temp"
   ]
  },
  {
   "cell_type": "markdown",
   "id": "481c9212-b5ec-4d0a-a5a7-3f95f53e33ed",
   "metadata": {},
   "source": [
    "#### 5-1-2. Simultaneously perform all tests (Dunnett's test)"
   ]
  },
  {
   "cell_type": "markdown",
   "id": "05bbe048-6a1d-4f7a-9198-2d46b524bd87",
   "metadata": {},
   "source": [
    "> Skip because template is Control.  "
   ]
  },
  {
   "cell_type": "markdown",
   "id": "e3c45730-8836-4616-8ff7-7a03ce81ec03",
   "metadata": {},
   "source": [
    "#### 5-1-3. Summarize all result objects into a table"
   ]
  },
  {
   "cell_type": "code",
   "execution_count": null,
   "id": "6e2dbd2c-1dc4-4add-9ae4-169bb4e9e221",
   "metadata": {},
   "outputs": [],
   "source": [
    "#Add general statistics\n",
    "##Calculate general statistics\n",
    "sem <- function(x) {sd(x)/sqrt(length(x))}\n",
    "temp <- rms_kk %>%\n",
    "    tidyr::gather(key=SampleID, value=RMS, -ModuleID) %>%\n",
    "    dplyr::left_join(., sample_meta, by=\"SampleID\") %>%\n",
    "    dplyr::mutate(Intervention=str_replace(Intervention, \"Control\", \"Cont\")) %>%\n",
    "    dplyr::mutate(Intervention=str_replace(Intervention, \"Acarbose\", \"Acar\")) %>%\n",
    "    dplyr::mutate(Intervention=str_replace(Intervention, \"Rapamycin\", \"Rapa\")) %>%\n",
    "    dplyr::mutate(Intervention=str_replace(Intervention, \"Calorie restriction\", \"Calo\")) %>%\n",
    "    dplyr::mutate(Intervention=factor(Intervention, levels=group_vec),\n",
    "                  Sex=factor(Sex, levels=c(\"F\", \"M\")),\n",
    "                  Age=factor(str_c(as.character(Age),\"m\"), levels=c(\"6m\", \"12m\"))) %>%\n",
    "    dplyr::group_by(ModuleID, Intervention) %>%\n",
    "    dplyr::summarize(Count=n(), RMSmean=mean(RMS), RMSsem=sem(RMS)) %>%\n",
    "    dplyr::ungroup()\n",
    "temp1 <- module_meta %>%\n",
    "    dplyr::select(ModuleID, ModuleName)\n",
    "for (group in group_vec) {\n",
    "    temp1 <- temp %>%\n",
    "        dplyr::filter(Intervention==!!group) %>%\n",
    "        dplyr::select(-Intervention) %>%\n",
    "        dplyr::rename(\"{group}_N\":=Count,\n",
    "                      \"{group}_RMSmean\":=RMSmean,\n",
    "                      \"{group}_RMSsem\":=RMSsem) %>%\n",
    "        dplyr::left_join(temp1, ., by=\"ModuleID\")\n",
    "}\n",
    "print(str_c(\"nrow: \",nrow(temp1)))\n",
    "head(temp1)\n",
    "##(Module order follows the updated module_meta based on the Intervention effect of ANOVA (4-2-2))\n",
    "\n",
    "summary_tbl <- temp1"
   ]
  },
  {
   "cell_type": "code",
   "execution_count": null,
   "id": "8bb8b766-c2d0-4659-a096-c4d67c69aef5",
   "metadata": {},
   "outputs": [],
   "source": [
    "#Save by appending to the existing .xlsx file\n",
    "##Load the existing .xlsx file as a new workbook object\n",
    "fileDir <- \"./ExportData/\"\n",
    "ipynbName <- \"220522_LC-M001-related-transcriptomics-DIRAC_StatisticalTest-GOBP_ver2-4_\"\n",
    "fileName <- \"inter-group-comparison.xlsx\"\n",
    "workbook <- loadWorkbook(str_c(fileDir,ipynbName,fileName))\n",
    "##Add the tibble object as a new sheet\n",
    "sheetName <- \"Cont-fixed-RMSmean\"\n",
    "addWorksheet(workbook, sheetName=sheetName)\n",
    "writeData(workbook, sheetName, summary_tbl)\n",
    "##Update the existing .xlsx file\n",
    "saveWorkbook(workbook, file=str_c(fileDir,ipynbName,fileName), overwrite=TRUE)"
   ]
  },
  {
   "cell_type": "markdown",
   "id": "831c4809-3016-421c-bce9-5609d2bc61c6",
   "metadata": {},
   "source": [
    "### 5-2. RMS under Aca consensus"
   ]
  },
  {
   "cell_type": "code",
   "execution_count": null,
   "id": "831a11b8-96a9-416a-84a7-7c8b491b08a2",
   "metadata": {},
   "outputs": [],
   "source": [
    "template <- \"Acarbose\""
   ]
  },
  {
   "cell_type": "markdown",
   "id": "395dd38a-0f5f-4594-9eb3-24618b34c3a8",
   "metadata": {},
   "source": [
    "#### 5-2-1. Extract RMS under the fixed consensus"
   ]
  },
  {
   "cell_type": "code",
   "execution_count": null,
   "id": "30c7a3cc-6188-4a70-9b54-b7ec89443431",
   "metadata": {},
   "outputs": [],
   "source": [
    "#Extract RMS whose template phenotype corresponds to the fixed phenotype\n",
    "temp <- rms_tbl %>%\n",
    "    dplyr::filter(Template==!!template) %>%\n",
    "    dplyr::select(-Template)\n",
    "print(str_c(\"nrow: \",nrow(temp)))\n",
    "head(temp)\n",
    "summary(temp[, 1:10])\n",
    "\n",
    "rms_kk <- temp"
   ]
  },
  {
   "cell_type": "markdown",
   "id": "286a6451-0861-44c9-97b7-f746201e9163",
   "metadata": {},
   "source": [
    "#### 5-2-2. Simultaneously perform all tests (Dunnett's test)"
   ]
  },
  {
   "cell_type": "code",
   "execution_count": null,
   "id": "90d4d719-adc6-4272-bfbf-17dc88fcd048",
   "metadata": {},
   "outputs": [],
   "source": [
    "#Prepare DF\n",
    "temp <- rms_kk %>%\n",
    "    tidyr::gather(key=SampleID, value=RMS, -ModuleID) %>%\n",
    "    dplyr::left_join(., sample_meta, by=\"SampleID\") %>%\n",
    "    dplyr::filter(Phenotype!=!!template) %>%#Eliminate the case of own consensus\n",
    "    dplyr::mutate(Intervention=str_replace(Intervention, \"Control\", \"Cont\")) %>%\n",
    "    dplyr::mutate(Intervention=str_replace(Intervention, \"Acarbose\", \"Acar\")) %>%\n",
    "    dplyr::mutate(Intervention=str_replace(Intervention, \"Rapamycin\", \"Rapa\")) %>%\n",
    "    dplyr::mutate(Intervention=str_replace(Intervention, \"Calorie restriction\", \"Calo\")) %>%\n",
    "    dplyr::mutate(Intervention=factor(Intervention, levels=group_vec),\n",
    "                  Sex=factor(Sex, levels=c(\"F\", \"M\")),\n",
    "                  Age=factor(str_c(as.character(Age),\"m\"), levels=c(\"6m\", \"12m\")))\n",
    "print(nrow(temp))\n",
    "head(temp)\n",
    "\n",
    "#Simultaneously perform all tests using tidyr::nest()\n",
    "temp <- temp %>%\n",
    "    dplyr::group_by(ModuleID) %>%\n",
    "    tidyr::nest() %>%#New column name becomes \"data\"\n",
    "    dplyr::mutate(Dunnett=lapply(data, function(tbl) {\n",
    "                      glht(aov(RMS~Intervention, data=tbl),\n",
    "                           linfct=mcp(Intervention=\"Dunnett\"),\n",
    "                           alternative=\"two.sided\")})) %>%\n",
    "    dplyr::ungroup()\n",
    "print(nrow(temp))\n",
    "print(head(temp))#print() because Jupyter Lab tries to display list contents\n",
    "\n",
    "model <- temp"
   ]
  },
  {
   "cell_type": "code",
   "execution_count": null,
   "id": "5e12e8c9-7c39-4780-b463-4abe9810c8bd",
   "metadata": {},
   "outputs": [],
   "source": [
    "#Check result objects\n",
    "summary(model$Dunnett[[1]])\n",
    "summary(model$Dunnett[[2]])"
   ]
  },
  {
   "cell_type": "markdown",
   "id": "499f30bd-2808-48db-913c-8567a95a531b",
   "metadata": {},
   "source": [
    "#### 5-2-3. Summarize all result objects into a table"
   ]
  },
  {
   "cell_type": "code",
   "execution_count": null,
   "id": "f351efcc-2d7a-4385-bf89-7585c3b3435c",
   "metadata": {},
   "outputs": [],
   "source": [
    "#Prepare contrast labels\n",
    "contrast_vec <- names(summary(model$Dunnett[[1]])$test$coefficients) %>%\n",
    "    str_replace(., \" - \", \"-vs-\")\n",
    "\n",
    "#Prepare summary table\n",
    "temp <- model %>%\n",
    "    dplyr::select(ModuleID, Dunnett)\n",
    "for (i in 1:length(contrast_vec)) {\n",
    "    label <- contrast_vec[i]\n",
    "    temp <- temp %>%\n",
    "        dplyr::mutate(\"{label}_Coef\":=sapply(Dunnett, function(glht) {unname(summary(glht)$test$coefficients[i])}),\n",
    "                      \"{label}_CoefSE\":=sapply(Dunnett, function(glht) {unname(summary(glht)$test$sigma[i])}),\n",
    "                      \"{label}_tStat\":=sapply(Dunnett, function(glht) {unname(summary(glht)$test$tstat[i])}),\n",
    "                      \"{label}_AdjPval\":=sapply(Dunnett, function(glht) {unname(summary(glht)$test$pvalues[i])}))\n",
    "}\n",
    "temp <- temp %>%\n",
    "    dplyr::select(-Dunnett)\n",
    "print(str_c(\"nrow: \",nrow(temp)))\n",
    "head(temp)\n",
    "\n",
    "summary_tbl <- temp"
   ]
  },
  {
   "cell_type": "markdown",
   "id": "e6a3ae46-aa0b-4a05-b53a-10bb8a914fbb",
   "metadata": {},
   "source": [
    "> –> These warnings were due to the models having invariable values (x models x 2 contrasts x 4 sapply() calls).  "
   ]
  },
  {
   "cell_type": "code",
   "execution_count": null,
   "id": "e9d76dc8-ace9-4311-b81b-64db1a689cd5",
   "metadata": {},
   "outputs": [],
   "source": [
    "#Add general statistics\n",
    "##Calculate general statistics\n",
    "sem <- function(x) {sd(x)/sqrt(length(x))}\n",
    "temp <- rms_kk %>%\n",
    "    tidyr::gather(key=SampleID, value=RMS, -ModuleID) %>%\n",
    "    dplyr::left_join(., sample_meta, by=\"SampleID\") %>%\n",
    "    dplyr::mutate(Intervention=str_replace(Intervention, \"Control\", \"Cont\")) %>%\n",
    "    dplyr::mutate(Intervention=str_replace(Intervention, \"Acarbose\", \"Acar\")) %>%\n",
    "    dplyr::mutate(Intervention=str_replace(Intervention, \"Rapamycin\", \"Rapa\")) %>%\n",
    "    dplyr::mutate(Intervention=str_replace(Intervention, \"Calorie restriction\", \"Calo\")) %>%\n",
    "    dplyr::mutate(Intervention=factor(Intervention, levels=group_vec),\n",
    "                  Sex=factor(Sex, levels=c(\"F\", \"M\")),\n",
    "                  Age=factor(str_c(as.character(Age),\"m\"), levels=c(\"6m\", \"12m\"))) %>%\n",
    "    dplyr::group_by(ModuleID, Intervention) %>%\n",
    "    dplyr::summarize(Count=n(), RMSmean=mean(RMS), RMSsem=sem(RMS)) %>%\n",
    "    dplyr::ungroup()\n",
    "temp1 <- module_meta %>%\n",
    "    dplyr::select(ModuleID, ModuleName)\n",
    "for (group in group_vec) {\n",
    "    temp1 <- temp %>%\n",
    "        dplyr::filter(Intervention==!!group) %>%\n",
    "        dplyr::select(-Intervention) %>%\n",
    "        dplyr::rename(\"{group}_N\":=Count,\n",
    "                      \"{group}_RMSmean\":=RMSmean,\n",
    "                      \"{group}_RMSsem\":=RMSsem) %>%\n",
    "        dplyr::left_join(temp1, ., by=\"ModuleID\")\n",
    "}\n",
    "print(str_c(\"nrow: \",nrow(temp1)))\n",
    "head(temp1)\n",
    "##Merge (Module order follows the updated module_meta based on the Intervention effect of ANOVA (4-2-2))\n",
    "temp <- dplyr::left_join(temp1, summary_tbl, by=\"ModuleID\")\n",
    "print(str_c(\"nrow: \",nrow(temp)))\n",
    "head(temp)\n",
    "\n",
    "summary_tbl <- temp"
   ]
  },
  {
   "cell_type": "markdown",
   "id": "27240180-408d-4e3d-a7d1-d92abbd2c465",
   "metadata": {},
   "source": [
    "> (Note that the beta-coefficient estimate is equivalent to the difference in the mean of RMSs; e.g., Acar-vs-Cont_Coef = Acar_RMSmean - Cont_RMSmean.)  "
   ]
  },
  {
   "cell_type": "code",
   "execution_count": null,
   "id": "0dc15f0f-305a-43aa-9b80-2134ef84a20c",
   "metadata": {},
   "outputs": [],
   "source": [
    "#Save by appending to the existing .xlsx file\n",
    "##Load the existing .xlsx file as a new workbook object\n",
    "fileDir <- \"./ExportData/\"\n",
    "ipynbName <- \"220522_LC-M001-related-transcriptomics-DIRAC_StatisticalTest-GOBP_ver2-4_\"\n",
    "fileName <- \"inter-group-comparison.xlsx\"\n",
    "workbook <- loadWorkbook(str_c(fileDir,ipynbName,fileName))\n",
    "##Add the tibble object as a new sheet\n",
    "sheetName <- \"Acar-fixed-RMSmean\"\n",
    "addWorksheet(workbook, sheetName=sheetName)\n",
    "writeData(workbook, sheetName, summary_tbl)\n",
    "##Update the existing .xlsx file\n",
    "saveWorkbook(workbook, file=str_c(fileDir,ipynbName,fileName), overwrite=TRUE)"
   ]
  },
  {
   "cell_type": "markdown",
   "id": "cf8caa18-09c2-4a5d-992a-1982bdf05982",
   "metadata": {},
   "source": [
    "### 5-3. RMS under Rapa consensus"
   ]
  },
  {
   "cell_type": "code",
   "execution_count": null,
   "id": "ec590aea-4e72-460a-835f-795b1c8fb4fa",
   "metadata": {},
   "outputs": [],
   "source": [
    "template <- \"Rapamycin\""
   ]
  },
  {
   "cell_type": "markdown",
   "id": "656f6486-4038-4886-b804-3c1c7800ccc4",
   "metadata": {},
   "source": [
    "#### 5-3-1. Extract RMS under the fixed consensus"
   ]
  },
  {
   "cell_type": "code",
   "execution_count": null,
   "id": "04a51b7c-8355-4189-a2b5-e7a14e494a14",
   "metadata": {},
   "outputs": [],
   "source": [
    "#Extract RMS whose template phenotype corresponds to the fixed phenotype\n",
    "temp <- rms_tbl %>%\n",
    "    dplyr::filter(Template==!!template) %>%\n",
    "    dplyr::select(-Template)\n",
    "print(str_c(\"nrow: \",nrow(temp)))\n",
    "head(temp)\n",
    "summary(temp[, 1:10])\n",
    "\n",
    "rms_kk <- temp"
   ]
  },
  {
   "cell_type": "markdown",
   "id": "0b2e5f75-352c-462a-8d47-07466ce641bc",
   "metadata": {},
   "source": [
    "#### 5-3-2. Simultaneously perform all tests (Dunnett's test)"
   ]
  },
  {
   "cell_type": "code",
   "execution_count": null,
   "id": "ec0e2d0d-0999-428e-b1f2-ec0e6971b886",
   "metadata": {},
   "outputs": [],
   "source": [
    "#Prepare DF\n",
    "temp <- rms_kk %>%\n",
    "    tidyr::gather(key=SampleID, value=RMS, -ModuleID) %>%\n",
    "    dplyr::left_join(., sample_meta, by=\"SampleID\") %>%\n",
    "    dplyr::filter(Phenotype!=!!template) %>%#Eliminate the case of own consensus\n",
    "    dplyr::mutate(Intervention=str_replace(Intervention, \"Control\", \"Cont\")) %>%\n",
    "    dplyr::mutate(Intervention=str_replace(Intervention, \"Acarbose\", \"Acar\")) %>%\n",
    "    dplyr::mutate(Intervention=str_replace(Intervention, \"Rapamycin\", \"Rapa\")) %>%\n",
    "    dplyr::mutate(Intervention=str_replace(Intervention, \"Calorie restriction\", \"Calo\")) %>%\n",
    "    dplyr::mutate(Intervention=factor(Intervention, levels=group_vec),\n",
    "                  Sex=factor(Sex, levels=c(\"F\", \"M\")),\n",
    "                  Age=factor(str_c(as.character(Age),\"m\"), levels=c(\"6m\", \"12m\")))\n",
    "print(nrow(temp))\n",
    "head(temp)\n",
    "\n",
    "#Simultaneously perform all tests using tidyr::nest()\n",
    "temp <- temp %>%\n",
    "    dplyr::group_by(ModuleID) %>%\n",
    "    tidyr::nest() %>%#New column name becomes \"data\"\n",
    "    dplyr::mutate(Dunnett=lapply(data, function(tbl) {\n",
    "                      glht(aov(RMS~Intervention, data=tbl),\n",
    "                           linfct=mcp(Intervention=\"Dunnett\"),\n",
    "                           alternative=\"two.sided\")})) %>%\n",
    "    dplyr::ungroup()\n",
    "print(nrow(temp))\n",
    "print(head(temp))#print() because Jupyter Lab tries to display list contents\n",
    "\n",
    "model <- temp"
   ]
  },
  {
   "cell_type": "code",
   "execution_count": null,
   "id": "b5b00694-bf06-4f97-8f61-ed9c7e0333b2",
   "metadata": {},
   "outputs": [],
   "source": [
    "#Check result objects\n",
    "summary(model$Dunnett[[1]])\n",
    "summary(model$Dunnett[[2]])"
   ]
  },
  {
   "cell_type": "markdown",
   "id": "e05e56ca-9d69-4e19-a551-ca42c90a6a77",
   "metadata": {},
   "source": [
    "#### 5-3-3. Summarize all result objects into a table"
   ]
  },
  {
   "cell_type": "code",
   "execution_count": null,
   "id": "b48b5574-e739-418d-83d2-15ce89c16b27",
   "metadata": {},
   "outputs": [],
   "source": [
    "#Prepare contrast labels\n",
    "contrast_vec <- names(summary(model$Dunnett[[1]])$test$coefficients) %>%\n",
    "    str_replace(., \" - \", \"-vs-\")\n",
    "\n",
    "#Prepare summary table\n",
    "temp <- model %>%\n",
    "    dplyr::select(ModuleID, Dunnett)\n",
    "for (i in 1:length(contrast_vec)) {\n",
    "    label <- contrast_vec[i]\n",
    "    temp <- temp %>%\n",
    "        dplyr::mutate(\"{label}_Coef\":=sapply(Dunnett, function(glht) {unname(summary(glht)$test$coefficients[i])}),\n",
    "                      \"{label}_CoefSE\":=sapply(Dunnett, function(glht) {unname(summary(glht)$test$sigma[i])}),\n",
    "                      \"{label}_tStat\":=sapply(Dunnett, function(glht) {unname(summary(glht)$test$tstat[i])}),\n",
    "                      \"{label}_AdjPval\":=sapply(Dunnett, function(glht) {unname(summary(glht)$test$pvalues[i])}))\n",
    "}\n",
    "temp <- temp %>%\n",
    "    dplyr::select(-Dunnett)\n",
    "print(str_c(\"nrow: \",nrow(temp)))\n",
    "head(temp)\n",
    "\n",
    "summary_tbl <- temp"
   ]
  },
  {
   "cell_type": "markdown",
   "id": "4baf6e22-514f-4b82-9a92-536a00281865",
   "metadata": {},
   "source": [
    "> –> These warnings were due to the models having invariable values (x models x 2 contrasts x 4 sapply() calls).  "
   ]
  },
  {
   "cell_type": "code",
   "execution_count": null,
   "id": "727f41bd-34cf-479a-8be4-d11783161574",
   "metadata": {},
   "outputs": [],
   "source": [
    "#Add general statistics\n",
    "##Calculate general statistics\n",
    "sem <- function(x) {sd(x)/sqrt(length(x))}\n",
    "temp <- rms_kk %>%\n",
    "    tidyr::gather(key=SampleID, value=RMS, -ModuleID) %>%\n",
    "    dplyr::left_join(., sample_meta, by=\"SampleID\") %>%\n",
    "    dplyr::mutate(Intervention=str_replace(Intervention, \"Control\", \"Cont\")) %>%\n",
    "    dplyr::mutate(Intervention=str_replace(Intervention, \"Acarbose\", \"Acar\")) %>%\n",
    "    dplyr::mutate(Intervention=str_replace(Intervention, \"Rapamycin\", \"Rapa\")) %>%\n",
    "    dplyr::mutate(Intervention=str_replace(Intervention, \"Calorie restriction\", \"Calo\")) %>%\n",
    "    dplyr::mutate(Intervention=factor(Intervention, levels=group_vec),\n",
    "                  Sex=factor(Sex, levels=c(\"F\", \"M\")),\n",
    "                  Age=factor(str_c(as.character(Age),\"m\"), levels=c(\"6m\", \"12m\"))) %>%\n",
    "    dplyr::group_by(ModuleID, Intervention) %>%\n",
    "    dplyr::summarize(Count=n(), RMSmean=mean(RMS), RMSsem=sem(RMS)) %>%\n",
    "    dplyr::ungroup()\n",
    "temp1 <- module_meta %>%\n",
    "    dplyr::select(ModuleID, ModuleName)\n",
    "for (group in group_vec) {\n",
    "    temp1 <- temp %>%\n",
    "        dplyr::filter(Intervention==!!group) %>%\n",
    "        dplyr::select(-Intervention) %>%\n",
    "        dplyr::rename(\"{group}_N\":=Count,\n",
    "                      \"{group}_RMSmean\":=RMSmean,\n",
    "                      \"{group}_RMSsem\":=RMSsem) %>%\n",
    "        dplyr::left_join(temp1, ., by=\"ModuleID\")\n",
    "}\n",
    "print(str_c(\"nrow: \",nrow(temp1)))\n",
    "head(temp1)\n",
    "##Merge (Module order follows the updated module_meta based on the Intervention effect of ANOVA (4-2-2))\n",
    "temp <- dplyr::left_join(temp1, summary_tbl, by=\"ModuleID\")\n",
    "print(str_c(\"nrow: \",nrow(temp)))\n",
    "head(temp)\n",
    "\n",
    "summary_tbl <- temp"
   ]
  },
  {
   "cell_type": "markdown",
   "id": "2e56d9a8-b23b-49a5-b934-4df972c5326c",
   "metadata": {},
   "source": [
    "> (Note that the beta-coefficient estimate is equivalent to the difference in the mean of RMSs; e.g., Acar-vs-Cont_Coef = Acar_RMSmean - Cont_RMSmean.)  "
   ]
  },
  {
   "cell_type": "code",
   "execution_count": null,
   "id": "197cb5eb-3a21-4b34-9c95-f9989a09d6ba",
   "metadata": {},
   "outputs": [],
   "source": [
    "#Save by appending to the existing .xlsx file\n",
    "##Load the existing .xlsx file as a new workbook object\n",
    "fileDir <- \"./ExportData/\"\n",
    "ipynbName <- \"220522_LC-M001-related-transcriptomics-DIRAC_StatisticalTest-GOBP_ver2-4_\"\n",
    "fileName <- \"inter-group-comparison.xlsx\"\n",
    "workbook <- loadWorkbook(str_c(fileDir,ipynbName,fileName))\n",
    "##Add the tibble object as a new sheet\n",
    "sheetName <- \"Rapa-fixed-RMSmean\"\n",
    "addWorksheet(workbook, sheetName=sheetName)\n",
    "writeData(workbook, sheetName, summary_tbl)\n",
    "##Update the existing .xlsx file\n",
    "saveWorkbook(workbook, file=str_c(fileDir,ipynbName,fileName), overwrite=TRUE)"
   ]
  },
  {
   "cell_type": "markdown",
   "id": "fb038486-6459-409f-83bf-ffcb19965118",
   "metadata": {},
   "source": [
    "### 5-4. RMS under CR consensus"
   ]
  },
  {
   "cell_type": "code",
   "execution_count": null,
   "id": "f79382c3-5157-42eb-b88f-216200825a08",
   "metadata": {},
   "outputs": [],
   "source": [
    "template <- \"Calorie restriction\""
   ]
  },
  {
   "cell_type": "markdown",
   "id": "e1e11597-13af-41f8-ab2b-18c68e8904ad",
   "metadata": {},
   "source": [
    "#### 5-4-1. Extract RMS under the fixed consensus"
   ]
  },
  {
   "cell_type": "code",
   "execution_count": null,
   "id": "cbb87660-fafc-43fb-a6fa-d9766b25a839",
   "metadata": {},
   "outputs": [],
   "source": [
    "#Extract RMS whose template phenotype corresponds to the fixed phenotype\n",
    "temp <- rms_tbl %>%\n",
    "    dplyr::filter(Template==!!template) %>%\n",
    "    dplyr::select(-Template)\n",
    "print(str_c(\"nrow: \",nrow(temp)))\n",
    "head(temp)\n",
    "summary(temp[, 1:10])\n",
    "\n",
    "rms_kk <- temp"
   ]
  },
  {
   "cell_type": "markdown",
   "id": "357d6e14-aa8c-4d31-b631-98e09d67bd5f",
   "metadata": {},
   "source": [
    "#### 5-4-2. Simultaneously perform all tests (Dunnett's test)"
   ]
  },
  {
   "cell_type": "code",
   "execution_count": null,
   "id": "3f47fd46-384b-412a-b96e-58daf09d81da",
   "metadata": {},
   "outputs": [],
   "source": [
    "#Prepare DF\n",
    "temp <- rms_kk %>%\n",
    "    tidyr::gather(key=SampleID, value=RMS, -ModuleID) %>%\n",
    "    dplyr::left_join(., sample_meta, by=\"SampleID\") %>%\n",
    "    dplyr::filter(Phenotype!=!!template) %>%#Eliminate the case of own consensus\n",
    "    dplyr::mutate(Intervention=str_replace(Intervention, \"Control\", \"Cont\")) %>%\n",
    "    dplyr::mutate(Intervention=str_replace(Intervention, \"Acarbose\", \"Acar\")) %>%\n",
    "    dplyr::mutate(Intervention=str_replace(Intervention, \"Rapamycin\", \"Rapa\")) %>%\n",
    "    dplyr::mutate(Intervention=str_replace(Intervention, \"Calorie restriction\", \"Calo\")) %>%\n",
    "    dplyr::mutate(Intervention=factor(Intervention, levels=group_vec),\n",
    "                  Sex=factor(Sex, levels=c(\"F\", \"M\")),\n",
    "                  Age=factor(str_c(as.character(Age),\"m\"), levels=c(\"6m\", \"12m\")))\n",
    "print(nrow(temp))\n",
    "head(temp)\n",
    "\n",
    "#Simultaneously perform all tests using tidyr::nest()\n",
    "temp <- temp %>%\n",
    "    dplyr::group_by(ModuleID) %>%\n",
    "    tidyr::nest() %>%#New column name becomes \"data\"\n",
    "    dplyr::mutate(Dunnett=lapply(data, function(tbl) {\n",
    "                      glht(aov(RMS~Intervention, data=tbl),\n",
    "                           linfct=mcp(Intervention=\"Dunnett\"),\n",
    "                           alternative=\"two.sided\")})) %>%\n",
    "    dplyr::ungroup()\n",
    "print(nrow(temp))\n",
    "print(head(temp))#print() because Jupyter Lab tries to display list contents\n",
    "\n",
    "model <- temp"
   ]
  },
  {
   "cell_type": "code",
   "execution_count": null,
   "id": "d28ebac3-4a0c-41c2-97a1-3f58846624c3",
   "metadata": {},
   "outputs": [],
   "source": [
    "#Check result objects\n",
    "summary(model$Dunnett[[1]])\n",
    "summary(model$Dunnett[[2]])"
   ]
  },
  {
   "cell_type": "markdown",
   "id": "1cfe197c-34bf-489b-aa6c-a59d5ab5e7df",
   "metadata": {},
   "source": [
    "#### 5-4-3. Summarize all result objects into a table"
   ]
  },
  {
   "cell_type": "code",
   "execution_count": null,
   "id": "d434ae9a-8515-4eb6-9135-024f7213a2e2",
   "metadata": {},
   "outputs": [],
   "source": [
    "#Prepare contrast labels\n",
    "contrast_vec <- names(summary(model$Dunnett[[1]])$test$coefficients) %>%\n",
    "    str_replace(., \" - \", \"-vs-\")\n",
    "\n",
    "#Prepare summary table\n",
    "temp <- model %>%\n",
    "    dplyr::select(ModuleID, Dunnett)\n",
    "for (i in 1:length(contrast_vec)) {\n",
    "    label <- contrast_vec[i]\n",
    "    temp <- temp %>%\n",
    "        dplyr::mutate(\"{label}_Coef\":=sapply(Dunnett, function(glht) {unname(summary(glht)$test$coefficients[i])}),\n",
    "                      \"{label}_CoefSE\":=sapply(Dunnett, function(glht) {unname(summary(glht)$test$sigma[i])}),\n",
    "                      \"{label}_tStat\":=sapply(Dunnett, function(glht) {unname(summary(glht)$test$tstat[i])}),\n",
    "                      \"{label}_AdjPval\":=sapply(Dunnett, function(glht) {unname(summary(glht)$test$pvalues[i])}))\n",
    "}\n",
    "temp <- temp %>%\n",
    "    dplyr::select(-Dunnett)\n",
    "print(str_c(\"nrow: \",nrow(temp)))\n",
    "head(temp)\n",
    "\n",
    "summary_tbl <- temp"
   ]
  },
  {
   "cell_type": "markdown",
   "id": "d03f985c-b446-4ab5-92e9-ea10eb1d7cbf",
   "metadata": {},
   "source": [
    "> –> These warnings were due to the models having invariable values (x models x 2 contrasts x 4 sapply() calls).  "
   ]
  },
  {
   "cell_type": "code",
   "execution_count": null,
   "id": "5b28b417-e0c2-430f-a2a0-5baa85346fce",
   "metadata": {},
   "outputs": [],
   "source": [
    "#Add general statistics\n",
    "##Calculate general statistics\n",
    "sem <- function(x) {sd(x)/sqrt(length(x))}\n",
    "temp <- rms_kk %>%\n",
    "    tidyr::gather(key=SampleID, value=RMS, -ModuleID) %>%\n",
    "    dplyr::left_join(., sample_meta, by=\"SampleID\") %>%\n",
    "    dplyr::mutate(Intervention=str_replace(Intervention, \"Control\", \"Cont\")) %>%\n",
    "    dplyr::mutate(Intervention=str_replace(Intervention, \"Acarbose\", \"Acar\")) %>%\n",
    "    dplyr::mutate(Intervention=str_replace(Intervention, \"Rapamycin\", \"Rapa\")) %>%\n",
    "    dplyr::mutate(Intervention=str_replace(Intervention, \"Calorie restriction\", \"Calo\")) %>%\n",
    "    dplyr::mutate(Intervention=factor(Intervention, levels=group_vec),\n",
    "                  Sex=factor(Sex, levels=c(\"F\", \"M\")),\n",
    "                  Age=factor(str_c(as.character(Age),\"m\"), levels=c(\"6m\", \"12m\"))) %>%\n",
    "    dplyr::group_by(ModuleID, Intervention) %>%\n",
    "    dplyr::summarize(Count=n(), RMSmean=mean(RMS), RMSsem=sem(RMS)) %>%\n",
    "    dplyr::ungroup()\n",
    "temp1 <- module_meta %>%\n",
    "    dplyr::select(ModuleID, ModuleName)\n",
    "for (group in group_vec) {\n",
    "    temp1 <- temp %>%\n",
    "        dplyr::filter(Intervention==!!group) %>%\n",
    "        dplyr::select(-Intervention) %>%\n",
    "        dplyr::rename(\"{group}_N\":=Count,\n",
    "                      \"{group}_RMSmean\":=RMSmean,\n",
    "                      \"{group}_RMSsem\":=RMSsem) %>%\n",
    "        dplyr::left_join(temp1, ., by=\"ModuleID\")\n",
    "}\n",
    "print(str_c(\"nrow: \",nrow(temp1)))\n",
    "head(temp1)\n",
    "##Merge (Module order follows the updated module_meta based on the Intervention effect of ANOVA (4-2-2))\n",
    "temp <- dplyr::left_join(temp1, summary_tbl, by=\"ModuleID\")\n",
    "print(str_c(\"nrow: \",nrow(temp)))\n",
    "head(temp)\n",
    "\n",
    "summary_tbl <- temp"
   ]
  },
  {
   "cell_type": "markdown",
   "id": "d0dedea0-f1f4-4021-9e39-b200288caa61",
   "metadata": {},
   "source": [
    "> (Note that the beta-coefficient estimate is equivalent to the difference in the mean of RMSs; e.g., Acar-vs-Cont_Coef = Acar_RMSmean - Cont_RMSmean.)  "
   ]
  },
  {
   "cell_type": "code",
   "execution_count": null,
   "id": "bf4217a5-422d-4ef0-b0c9-c2ed1c8fef84",
   "metadata": {},
   "outputs": [],
   "source": [
    "#Save by appending to the existing .xlsx file\n",
    "##Load the existing .xlsx file as a new workbook object\n",
    "fileDir <- \"./ExportData/\"\n",
    "ipynbName <- \"220522_LC-M001-related-transcriptomics-DIRAC_StatisticalTest-GOBP_ver2-4_\"\n",
    "fileName <- \"inter-group-comparison.xlsx\"\n",
    "workbook <- loadWorkbook(str_c(fileDir,ipynbName,fileName))\n",
    "##Add the tibble object as a new sheet\n",
    "sheetName <- \"Calo-fixed-RMSmean\"\n",
    "addWorksheet(workbook, sheetName=sheetName)\n",
    "writeData(workbook, sheetName, summary_tbl)\n",
    "##Update the existing .xlsx file\n",
    "saveWorkbook(workbook, file=str_c(fileDir,ipynbName,fileName), overwrite=TRUE)"
   ]
  },
  {
   "cell_type": "markdown",
   "id": "40c06919-111f-4866-8209-02234fb94b95",
   "metadata": {},
   "source": [
    "# — †3. Go back to †3 of the main Python notebook —  "
   ]
  },
  {
   "cell_type": "markdown",
   "id": "71adff3d-628b-4d88-817e-1450a1d14d84",
   "metadata": {},
   "source": [
    "# — Session information —"
   ]
  },
  {
   "cell_type": "code",
   "execution_count": null,
   "id": "5e55c69b-50c9-49fb-8216-6d54a0c9a7ea",
   "metadata": {},
   "outputs": [],
   "source": [
    "sessionInfo()"
   ]
  }
 ],
 "metadata": {
  "kernelspec": {
   "display_name": "arivale-r - R",
   "language": "R",
   "name": "conda-env-arivale-r-r"
  },
  "language_info": {
   "codemirror_mode": "r",
   "file_extension": ".r",
   "mimetype": "text/x-r-source",
   "name": "R",
   "pygments_lexer": "r",
   "version": "4.1.1"
  },
  "widgets": {
   "application/vnd.jupyter.widget-state+json": {
    "state": {},
    "version_major": 2,
    "version_minor": 0
   }
  }
 },
 "nbformat": 4,
 "nbformat_minor": 5
}
