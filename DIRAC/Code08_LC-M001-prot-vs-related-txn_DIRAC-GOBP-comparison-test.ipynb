{
 "cells": [
  {
   "cell_type": "markdown",
   "id": "da412824-348e-4357-9ed6-933e62b01dae",
   "metadata": {},
   "source": [
    "# DIRAC Analyses of LC M001 Proteomics and Related Transcriptomics — Statistical Tests for Comparisons"
   ]
  },
  {
   "cell_type": "markdown",
   "id": "f03a7849-2951-4d29-956a-259e8e9025dc",
   "metadata": {},
   "source": [
    "***by Kengo Watanabe***  \n",
    "\n",
    "In the main Python notebook, the results of differential rank conservation (DIRAC; Eddy, J.A. et al. PLoS Comput. Biol. 2010) analyses are compared between the Longevity Consortium (LC) M001 proteomics dataset and the related transcriptomics dataset (Tyshkovskiy, A. et al. Cell Metab. 2019).  \n",
    "**–> To maintain the consistency with the other DIRAC analyses, statistical tests are performed in this sub-notebook with R kernel.**  \n",
    "\n",
    "Input:  \n",
    "* Combined module metadata: 220525_LC-M001-DIRAC-prot-vs-txn_Comparison-GOBP_ver2-2_module-metadata.tsv  \n",
    "* Combined sample–mouse metadata: 220525_LC-M001-DIRAC-prot-vs-txn_Comparison-GOBP_ver2-2_sample-metadata.tsv  \n",
    "* Cleaned table of DIRAC RMSs (proteomics): 220525_LC-M001-DIRAC-prot-vs-txn_Comparison-GOBP_ver2-2_proteomics-RMS.tsv  \n",
    "* Cleaned table of DIRAC RCIs (proteomics): 220525_LC-M001-DIRAC-prot-vs-txn_Comparison-GOBP_ver2-2_proteomics-RCI.tsv  \n",
    "* Cleaned table of DIRAC RMSs (transcriptomics): 220525_LC-M001-DIRAC-prot-vs-txn_Comparison-GOBP_ver2-2_transcriptomics-RMS.tsv  \n",
    "* Cleaned table of DIRAC RCIs (transcriptomics): 220525_LC-M001-DIRAC-prot-vs-txn_Comparison-GOBP_ver2-2_transcriptomics-RCI.tsv  \n",
    "\n",
    "Output:  \n",
    "* Supplementary Data 6  \n",
    "\n",
    "Original notebook (memo for my future tracing):  \n",
    "* dalek:[JupyterLab HOME]/220523_LC-M001-DIRAC-prot-vs-txn/220525_LC-M001-DIRAC-prot-vs-txn_StatisticalTest-GOBP_ver2-2.ipynb  "
   ]
  },
  {
   "cell_type": "code",
   "execution_count": null,
   "id": "f141e4af-e174-4f1a-a88e-7e1396a865cd",
   "metadata": {},
   "outputs": [],
   "source": [
    "library(\"tidyverse\")\n",
    "options(repr.plot.width=5, repr.plot.height=5)#Default=7x7\n",
    "\n",
    "#CRAN\n",
    "for (package in c(\"multcomp\", \"openxlsx\")) {\n",
    "    #install.packages(package)\n",
    "    eval(bquote(library(.(package))))\n",
    "    print(str_c(package, \": \", as.character(packageVersion(package))))\n",
    "}"
   ]
  },
  {
   "cell_type": "markdown",
   "id": "27c49965-5417-4ee7-bd9b-65e09e831322",
   "metadata": {},
   "source": [
    "## 1. Prepare metadata and DIRAC results"
   ]
  },
  {
   "cell_type": "code",
   "execution_count": null,
   "id": "d02334e8-8a46-445a-a85f-33f62cef518c",
   "metadata": {},
   "outputs": [],
   "source": [
    "#Import module metadata\n",
    "fileDir <- \"./ExportData/\"\n",
    "ipynbName <- \"220525_LC-M001-DIRAC-prot-vs-txn_Comparison-GOBP_ver2-2_\"\n",
    "fileName <- \"module-metadata.tsv\"\n",
    "temp <- read_delim(str_c(fileDir,ipynbName,fileName), delim=\"\\t\")\n",
    "print(str_c(\"nrow: \",nrow(temp)))\n",
    "head(temp)\n",
    "\n",
    "module_meta <- temp"
   ]
  },
  {
   "cell_type": "code",
   "execution_count": null,
   "id": "88d6b360-6fbc-41b0-b7db-293c6b31555e",
   "metadata": {},
   "outputs": [],
   "source": [
    "#Import sample-mouse metadata\n",
    "fileDir <- \"./ExportData/\"\n",
    "ipynbName <- \"220525_LC-M001-DIRAC-prot-vs-txn_Comparison-GOBP_ver2-2_\"\n",
    "fileName <- \"sample-metadata.tsv\"\n",
    "temp <- read_delim(str_c(fileDir,ipynbName,fileName), delim=\"\\t\")\n",
    "print(str_c(\"nrow: \",nrow(temp)))\n",
    "head(temp)\n",
    "\n",
    "sample_meta <- temp"
   ]
  },
  {
   "cell_type": "code",
   "execution_count": null,
   "id": "69dc7840-1b18-4418-a41a-79dd873b39b4",
   "metadata": {},
   "outputs": [],
   "source": [
    "#Import DIRAC results\n",
    "fileDir <- \"./ExportData/\"\n",
    "ipynbName <- \"220525_LC-M001-DIRAC-prot-vs-txn_Comparison-GOBP_ver2-2_\"\n",
    "fileName <- \"proteomics-RMS.tsv\"\n",
    "temp1 <- read_delim(str_c(fileDir,ipynbName,fileName), delim=\"\\t\")\n",
    "print(str_c(\"nrow: \",nrow(temp1)))\n",
    "head(temp1)\n",
    "\n",
    "fileName <- \"proteomics-RCI.tsv\"\n",
    "temp2 <- read_delim(str_c(fileDir,ipynbName,fileName), delim=\"\\t\")\n",
    "print(str_c(\"nrow: \",nrow(temp2)))\n",
    "head(temp2)\n",
    "\n",
    "rms_prot <- temp1\n",
    "rci_prot <- temp2"
   ]
  },
  {
   "cell_type": "code",
   "execution_count": null,
   "id": "5d4b77d7-55e1-45d5-a053-8fefcc7a9f1d",
   "metadata": {},
   "outputs": [],
   "source": [
    "#Import DIRAC results\n",
    "fileDir <- \"./ExportData/\"\n",
    "ipynbName <- \"220525_LC-M001-DIRAC-prot-vs-txn_Comparison-GOBP_ver2-2_\"\n",
    "fileName <- \"transcriptomics-RMS.tsv\"\n",
    "temp1 <- read_delim(str_c(fileDir,ipynbName,fileName), delim=\"\\t\")\n",
    "print(str_c(\"nrow: \",nrow(temp1)))\n",
    "head(temp1)\n",
    "\n",
    "fileName <- \"transcriptomics-RCI.tsv\"\n",
    "temp2 <- read_delim(str_c(fileDir,ipynbName,fileName), delim=\"\\t\")\n",
    "print(str_c(\"nrow: \",nrow(temp2)))\n",
    "head(temp2)\n",
    "\n",
    "rms_txn <- temp1\n",
    "rci_txn <- temp2"
   ]
  },
  {
   "cell_type": "markdown",
   "id": "8c9c8237-7c7e-49a5-9213-c993f817edb5",
   "metadata": {},
   "source": [
    "## 2. Rank conservation index: general pattern"
   ]
  },
  {
   "cell_type": "markdown",
   "id": "cd7aec7a-f759-4963-92dd-19f4a11bb064",
   "metadata": {},
   "source": [
    "> This would NOT be used for the manuscript; hence, statistical test is skipped in this version.  "
   ]
  },
  {
   "cell_type": "markdown",
   "id": "956cd52c-1794-412e-8316-fa62ee88a23e",
   "metadata": {},
   "source": [
    "## 3. Rank conservation index: inter-group module comparison"
   ]
  },
  {
   "cell_type": "markdown",
   "id": "99c63377-e107-40f3-b401-bea64f9f9cf7",
   "metadata": {},
   "source": [
    "> Test specific hypothesis: control RCI == intervention RCI (i.e., inter-group module comparison).  \n",
    "> 1. Testing the main effect of intervention on RMSs for each module using ANOVA model  \n",
    "> 2. Then, performing post-hoc comparisons of RMSs between control vs. each intervention using the repeated Student's t-tests  \n",
    ">  \n",
    "> Basically, statistical strategy is same with the one used in each dataset analysis. Because RMS/RCI was not normalized (i.e., the expected mean and variance could be different between datasets due to different number of mapped analytes), dataset and its interaction term are NOT included in ANOVA model; instead, ANOVA model is generated per dataset. The p-value adjustment is performed in a conservative manner: the P-values in ANOVA tests are adjusted across all models (= modules x datasets), and those in post-hoc tests are adjusted across datasets only within the module (not across modules). Not Dunnett's test but Student's t-test (i.e., t-test with pooled variance) is used as the post-hoc test because further adjustment of the Dunnett's test p-values with the Holm-Bonferroni method is too much (incorrect) adjustment for family-wise error rate (FWER).  "
   ]
  },
  {
   "cell_type": "markdown",
   "id": "a0030668-adf2-42d8-858a-f5c04632291a",
   "metadata": {},
   "source": [
    "### 3-1. Extract RMS under the own phenotype consensus"
   ]
  },
  {
   "cell_type": "code",
   "execution_count": null,
   "id": "4ba54b1f-707f-4df0-9e32-308f2d69c8a9",
   "metadata": {},
   "outputs": [],
   "source": [
    "#Extract RMS whose template phenotype corresponds to the own phenotype\n",
    "temp <- tibble(ModuleID=module_meta$ModuleID)\n",
    "##Proteomics\n",
    "temp1 <- rms_prot\n",
    "phenotype_vec <- rci_prot %>%\n",
    "    dplyr::select(-ModuleID, -Template) %>%\n",
    "    names()\n",
    "for (k in phenotype_vec) {\n",
    "    temp2 <- sample_meta %>%\n",
    "        dplyr::filter(Group==!!k) %>%\n",
    "        .$SampleID\n",
    "    temp <- temp1 %>%\n",
    "        dplyr::filter(Template==!!k) %>%\n",
    "        dplyr::select(ModuleID, all_of(temp2)) %>%\n",
    "        dplyr::left_join(temp, ., by=\"ModuleID\")\n",
    "}\n",
    "##Transcriptomics\n",
    "temp1 <- rms_txn\n",
    "phenotype_vec <- rci_txn %>%\n",
    "    dplyr::select(-ModuleID, -Template) %>%\n",
    "    names()\n",
    "for (k in phenotype_vec) {\n",
    "    temp2 <- sample_meta %>%\n",
    "        dplyr::filter(Group==!!k) %>%\n",
    "        .$SampleID\n",
    "    temp <- temp1 %>%\n",
    "        dplyr::filter(Template==!!k) %>%\n",
    "        dplyr::select(ModuleID, all_of(temp2)) %>%\n",
    "        dplyr::left_join(temp, ., by=\"ModuleID\")\n",
    "}\n",
    "\n",
    "print(str_c(\"nrow: \",nrow(temp)))\n",
    "head(temp)\n",
    "summary(temp[, 1:10])\n",
    "\n",
    "rms_kk <- temp"
   ]
  },
  {
   "cell_type": "markdown",
   "id": "33d103b4-35fd-4a36-89a5-40dcac16ec1a",
   "metadata": {},
   "source": [
    "### 3-2. ANOVA test (RMS ~ Intervention), followed by repeated Student's t-tests (Intervention)"
   ]
  },
  {
   "cell_type": "markdown",
   "id": "9672fd8b-3cd5-4eb8-90b2-a7d30ac1b986",
   "metadata": {},
   "source": [
    "#### 3-2-1. Simultaneously perform all ANOVA tests"
   ]
  },
  {
   "cell_type": "code",
   "execution_count": null,
   "id": "b0546d76-27a1-4d54-be84-3b55e3fd4210",
   "metadata": {},
   "outputs": [],
   "source": [
    "#Prepare DF\n",
    "group_vec <- c(\"Cont\", \"Acar\", \"Rapa\")\n",
    "temp <- rms_kk %>%\n",
    "    tidyr::gather(key=SampleID, value=RMS, -ModuleID) %>%\n",
    "    dplyr::left_join(., sample_meta, by=\"SampleID\") %>%\n",
    "    dplyr::mutate(Intervention=str_replace(Intervention, \"Control\", \"Cont\")) %>%\n",
    "    dplyr::mutate(Intervention=str_replace(Intervention, \"Acarbose\", \"Acar\")) %>%\n",
    "    dplyr::mutate(Intervention=str_replace(Intervention, \"Rapamycin\", \"Rapa\")) %>%\n",
    "    dplyr::mutate(Intervention=factor(Intervention, levels=group_vec),\n",
    "                  Sex=factor(Sex, levels=c(\"F\", \"M\")),\n",
    "                  Age=factor(Age, levels=c(\"6m\", \"12m\")))\n",
    "print(nrow(temp))\n",
    "head(temp)\n",
    "\n",
    "#Simultaneously perform all tests using tidyr::nest()\n",
    "temp <- temp %>%\n",
    "    dplyr::group_by(ModuleID, Dataset) %>%\n",
    "    tidyr::nest() %>%#New column name becomes \"data\"\n",
    "    dplyr::mutate(ANOVA=lapply(data, function(tbl) {aov(RMS~Intervention, data=tbl)})) %>%\n",
    "    dplyr::ungroup()\n",
    "print(nrow(temp))\n",
    "print(head(temp))#print() because Jupyter Lab tries to display list contents\n",
    "\n",
    "model1 <- temp"
   ]
  },
  {
   "cell_type": "code",
   "execution_count": null,
   "id": "20e93fb2-6769-426e-908c-71a572332bc0",
   "metadata": {},
   "outputs": [],
   "source": [
    "#Check result object\n",
    "summary(model1$ANOVA[[1]])"
   ]
  },
  {
   "cell_type": "markdown",
   "id": "e479f56f-8e79-4bd2-9cf2-402893882297",
   "metadata": {},
   "source": [
    "#### 3-2-2. Simultaneously perform all Student's t-tests"
   ]
  },
  {
   "cell_type": "code",
   "execution_count": null,
   "id": "d17aa5a0-3407-4442-9106-3d929ff3d4dc",
   "metadata": {},
   "outputs": [],
   "source": [
    "#Prepare DF\n",
    "temp1 <- rms_kk %>%\n",
    "    tidyr::gather(key=SampleID, value=RMS, -ModuleID) %>%\n",
    "    dplyr::left_join(., sample_meta, by=\"SampleID\") %>%\n",
    "    dplyr::mutate(Intervention=str_replace(Intervention, \"Control\", \"Cont\")) %>%\n",
    "    dplyr::mutate(Intervention=str_replace(Intervention, \"Acarbose\", \"Acar\")) %>%\n",
    "    dplyr::mutate(Intervention=str_replace(Intervention, \"Rapamycin\", \"Rapa\"))\n",
    "comparison_vec <- c(\"Acar-vs-Cont\", \"Rapa-vs-Cont\")\n",
    "temp <- tibble()\n",
    "for (comparison in comparison_vec) {\n",
    "    contrast <- str_split(comparison, \"-vs-\", simplify=TRUE)[1]\n",
    "    baseline <- str_split(comparison, \"-vs-\", simplify=TRUE)[2]\n",
    "    temp2 <- temp1 %>%\n",
    "        dplyr::filter(Intervention==!!contrast) %>%\n",
    "        dplyr::select(ModuleID, Dataset, SampleID, RMS) %>%\n",
    "        dplyr::rename(SampleID_contrast=SampleID,\n",
    "                      RMS_contrast=RMS) %>%\n",
    "        dplyr::group_by(ModuleID, Dataset) %>%\n",
    "        dplyr::mutate(Sample_i=1:n()) %>%#Just for handling; no correspondence b/w baseline and contrast\n",
    "        dplyr::ungroup()\n",
    "    temp3 <- temp1 %>%\n",
    "        dplyr::filter(Intervention==!!baseline) %>%\n",
    "        dplyr::select(ModuleID, Dataset, SampleID, RMS) %>%\n",
    "        dplyr::rename(SampleID_baseline=SampleID,\n",
    "                      RMS_baseline=RMS) %>%\n",
    "        dplyr::group_by(ModuleID, Dataset) %>%\n",
    "        dplyr::mutate(Sample_i=1:n()) %>%#Just for handling; no correspondence b/w baseline and contrast\n",
    "        dplyr::ungroup()\n",
    "    temp <- dplyr::full_join(temp2, temp3, by=c(\"ModuleID\", \"Dataset\", \"Sample_i\")) %>%\n",
    "        dplyr::mutate(Comparison=!!comparison) %>%\n",
    "        dplyr::select(ModuleID, Dataset, Comparison, Sample_i,\n",
    "                      SampleID_contrast, RMS_contrast, SampleID_baseline, RMS_baseline) %>%\n",
    "        dplyr::bind_rows(temp, .)\n",
    "}\n",
    "print(nrow(temp))\n",
    "head(temp)\n",
    "\n",
    "#Check NAs which can be derived by full_join when sample size is different b/w baseline and contrast\n",
    "temp1 <- temp %>%\n",
    "    dplyr::filter(is.na(RMS_contrast)|is.na(RMS_baseline)) %>%\n",
    "    dplyr::group_by(ModuleID, Dataset, Comparison) %>%\n",
    "    dplyr::summarize(Count=n()) %>%\n",
    "    dplyr::ungroup()\n",
    "print(str_c('Test with different sample size: ',nrow(temp1)))\n",
    "\n",
    "#Simultaneously perform all tests using tidyr::nest()\n",
    "temp <- temp %>%\n",
    "    dplyr::group_by(ModuleID, Dataset, Comparison) %>%\n",
    "    tidyr::nest() %>%#New column name becomes \"data\"\n",
    "    dplyr::mutate(Student=lapply(data, function(tbl) {\n",
    "        t.test(tbl$RMS_contrast, tbl$RMS_baseline, alternative=\"two.sided\", mu=0,\n",
    "               paired=FALSE, var.equal=TRUE, conf.level=0.95)})) %>%\n",
    "    dplyr::ungroup()\n",
    "print(nrow(temp))\n",
    "print(head(temp))#print() because Jupyter Lab tries to display list contents\n",
    "\n",
    "model2 <- temp"
   ]
  },
  {
   "cell_type": "code",
   "execution_count": null,
   "id": "264134ee-3ef1-40c9-b175-a622dc398221",
   "metadata": {},
   "outputs": [],
   "source": [
    "#Check result object\n",
    "temp <- model2$Student[[1]]\n",
    "summary(temp)\n",
    "for (name in rownames(summary(temp))) {\n",
    "    print(name)\n",
    "    print(temp[[name]])\n",
    "    print(\"\")\n",
    "}"
   ]
  },
  {
   "cell_type": "markdown",
   "id": "4afcf763-dde2-4a51-a47d-1594dcf951b4",
   "metadata": {},
   "source": [
    "#### 3-2-3. Summarize all result objects into a table"
   ]
  },
  {
   "cell_type": "code",
   "execution_count": null,
   "id": "43f13e6a-1a06-49aa-825d-5e1494052c91",
   "metadata": {},
   "outputs": [],
   "source": [
    "#Prepare variable labels\n",
    "variable_vec <- rownames(summary(model1$ANOVA[[1]])[[1]]) %>%\n",
    "    str_replace(., \" *$\", \"\")#Remove white spaces\n",
    "variable_vec <- variable_vec[1:(length(variable_vec)-1)]#Remove Residuals\n",
    "\n",
    "#Prepare summary table of ANOVA tests\n",
    "temp1 <- model1 %>%\n",
    "    dplyr::select(ModuleID, Dataset, ANOVA)\n",
    "for (i in 1:length(variable_vec)) {\n",
    "    label <- variable_vec[i]\n",
    "    temp1 <- temp1 %>%\n",
    "        dplyr::mutate(\"{label}_DF\":=sapply(ANOVA, function(aov) {summary(aov)[[1]]$Df[i]}),\n",
    "                      \"{label}_SumSq\":=sapply(ANOVA, function(aov) {summary(aov)[[1]]$`Sum Sq`[i]}),\n",
    "                      \"{label}_MeanSq\":=sapply(ANOVA, function(aov) {summary(aov)[[1]]$`Mean Sq`[i]}),\n",
    "                      \"{label}_Fstat\":=sapply(ANOVA, function(aov) {summary(aov)[[1]]$`F value`[i]}),\n",
    "                      \"{label}_Pval\":=sapply(ANOVA, function(aov) {summary(aov)[[1]]$`Pr(>F)`[i]})) %>%\n",
    "        #P-value adjustment with the Benjamini-Hochberg method\n",
    "        ##Using !!as.name() in the following line, because simple {{}} and !! didn't recognize?\n",
    "        dplyr::mutate(\"{label}_AdjPval\":=p.adjust(!!as.name(str_c(label,\"_Pval\")), method=\"BH\"))\n",
    "}\n",
    "temp1 <- temp1 %>%\n",
    "    dplyr::select(-ANOVA)\n",
    "print(str_c(\"nrow: \",nrow(temp1)))\n",
    "head(temp1)\n",
    "\n",
    "#Prepare summary table of t-tests\n",
    "temp2 <- model2 %>%\n",
    "    dplyr::select(ModuleID, Dataset) %>%\n",
    "    dplyr::distinct()\n",
    "for (i in 1:length(comparison_vec)) {\n",
    "    label <- comparison_vec[i]\n",
    "    temp2 <- model2 %>%\n",
    "        dplyr::filter(Comparison==!!label) %>%\n",
    "        dplyr::mutate(\"{label}_DF\":=sapply(Student, function(htest) {unname(htest[[\"parameter\"]])}),\n",
    "                      \"{label}_Coef\":=sapply(Student, function(htest) {\n",
    "                          unname(htest[[\"estimate\"]][1]-htest[[\"estimate\"]][2])}),\n",
    "                      \"{label}_CoefSE\":=sapply(Student, function(htest) {unname(htest[[\"stderr\"]])}),\n",
    "                      \"{label}_tStat\":=sapply(Student, function(htest) {unname(htest[[\"statistic\"]])}),\n",
    "                      \"{label}_Pval\":=sapply(Student, function(htest) {unname(htest[[\"p.value\"]])}),\n",
    "                      \"{label}_AdjPval\":=1.0) %>%#Insert dummy column for now\n",
    "        dplyr::select(-Comparison, -data, -Student) %>%\n",
    "        dplyr::left_join(temp2, ., by=c(\"ModuleID\", \"Dataset\"))\n",
    "}\n",
    "##P-value adjustment across datasets with the Holm-Bonferroni method\n",
    "temp3 <- temp2 %>%\n",
    "    dplyr::select(ModuleID, Dataset, all_of(str_c(comparison_vec,\"_Pval\"))) %>%\n",
    "    tidyr::gather(key=ColName, value=Pval, -ModuleID, -Dataset) %>%\n",
    "    dplyr::group_by(ModuleID) %>%\n",
    "    dplyr::mutate(AdjPval=p.adjust(Pval, method=\"holm\")) %>%\n",
    "    dplyr::ungroup() %>%\n",
    "    dplyr::select(-Pval) %>%\n",
    "    dplyr::mutate(ColName=str_replace(ColName, \"_Pval\", \"_AdjPval_temp\")) %>%\n",
    "    tidyr::spread(key=ColName, value=AdjPval)\n",
    "##Replace the dummy values with the adjusted p-values\n",
    "temp2 <- dplyr::left_join(temp2, temp3, by=c(\"ModuleID\", \"Dataset\"))\n",
    "for (i in 1:length(comparison_vec)) {\n",
    "    label <- comparison_vec[i]\n",
    "    temp2 <- temp2 %>%\n",
    "        dplyr::mutate(\"{label}_AdjPval\":=!!as.name(str_c(label,\"_AdjPval_temp\"))) %>%\n",
    "        dplyr::select(-!!as.name(str_c(label,\"_AdjPval_temp\")))\n",
    "}\n",
    "print(str_c(\"nrow: \",nrow(temp2)))\n",
    "head(temp2)\n",
    "\n",
    "#Merge\n",
    "temp <- dplyr::left_join(temp1, temp2, by=c(\"ModuleID\", \"Dataset\"))\n",
    "print(str_c(\"nrow: \",nrow(temp)))\n",
    "head(temp)\n",
    "\n",
    "summary_tbl <- temp"
   ]
  },
  {
   "cell_type": "code",
   "execution_count": null,
   "id": "44996e33-91f0-4a30-9f4d-ea2779fa550d",
   "metadata": {},
   "outputs": [],
   "source": [
    "#Add general statistics\n",
    "##Calculate general statistics\n",
    "sem <- function(x) {sd(x)/sqrt(length(x))}\n",
    "temp <- rms_kk %>%\n",
    "    tidyr::gather(key=SampleID, value=RMS, -ModuleID) %>%\n",
    "    dplyr::left_join(., sample_meta, by=\"SampleID\") %>%\n",
    "    dplyr::mutate(Intervention=str_replace(Intervention, \"Control\", \"Cont\")) %>%\n",
    "    dplyr::mutate(Intervention=str_replace(Intervention, \"Acarbose\", \"Acar\")) %>%\n",
    "    dplyr::mutate(Intervention=str_replace(Intervention, \"Rapamycin\", \"Rapa\")) %>%\n",
    "    dplyr::mutate(Intervention=factor(Intervention, levels=group_vec),\n",
    "                  Sex=factor(Sex, levels=c(\"F\", \"M\")),\n",
    "                  Age=factor(Age, levels=c(\"6m\", \"12m\"))) %>%\n",
    "    dplyr::group_by(ModuleID, Dataset, Intervention) %>%\n",
    "    dplyr::summarize(Count=n(), RMSmean=mean(RMS), RMSsem=sem(RMS)) %>%\n",
    "    dplyr::ungroup()\n",
    "temp1 <- module_meta %>%\n",
    "    dplyr::select(ModuleID, ModuleName)\n",
    "temp1 <- dplyr::bind_rows(temp1, temp1) %>%\n",
    "    dplyr::mutate(Dataset=rep(c(\"Proteomics\", \"Transcriptomics\"), each=nrow(module_meta)))\n",
    "for (group in group_vec) {\n",
    "    temp1 <- temp %>%\n",
    "        dplyr::filter(Intervention==!!group) %>%\n",
    "        dplyr::select(-Intervention) %>%\n",
    "        dplyr::rename(\"{group}_N\":=Count,\n",
    "                      \"{group}_RMSmean\":=RMSmean,\n",
    "                      \"{group}_RMSsem\":=RMSsem) %>%\n",
    "        dplyr::left_join(temp1, ., by=c(\"ModuleID\", \"Dataset\"))\n",
    "}\n",
    "print(str_c(\"nrow: \",nrow(temp1)))\n",
    "head(temp1)\n",
    "##Merge\n",
    "temp <- dplyr::left_join(temp1, summary_tbl, by=c(\"ModuleID\", \"Dataset\")) %>%\n",
    "    dplyr::arrange(Intervention_Pval)\n",
    "print(str_c(\"nrow: \",nrow(temp)))\n",
    "head(temp)\n",
    "\n",
    "summary_tbl <- temp"
   ]
  },
  {
   "cell_type": "markdown",
   "id": "101b604f-e328-4dae-b64a-8b1c49be5c5c",
   "metadata": {},
   "source": [
    "> (Note that the beta-coefficient estimate is equivalent to the difference in the mean of RMSs; e.g., Acar-vs-Cont_Coef = Acar_RMSmean - Cont_RMSmean.)  "
   ]
  },
  {
   "cell_type": "code",
   "execution_count": null,
   "id": "28503d4c-4a79-4080-a331-1d4baf9dbb47",
   "metadata": {},
   "outputs": [],
   "source": [
    "#Create a workbook object to save as one single .xlsx file\n",
    "workbook <- createWorkbook()\n",
    "\n",
    "#Prepare module metadata sheet\n",
    "sheetName <- \"ModuleMetadata\"\n",
    "addWorksheet(workbook, sheetName=sheetName)\n",
    "writeData(workbook, sheetName, module_meta)\n",
    "\n",
    "#Save the summary table as a new sheet per dataset\n",
    "for (dataset in c(\"Proteomics\", \"Transcriptomics\")) {\n",
    "    temp <- summary_tbl %>%\n",
    "        dplyr::filter(Dataset==!!dataset) %>%\n",
    "        dplyr::select(-Dataset)\n",
    "    print(str_c(\"nrow: \",nrow(temp)))\n",
    "    print(head(temp))\n",
    "    \n",
    "    sheetName <- str_c(\"RCI-\",dataset)\n",
    "    addWorksheet(workbook, sheetName=sheetName)\n",
    "    writeData(workbook, sheetName, temp)\n",
    "}\n",
    "\n",
    "#Save the workbook as one single .xlsx file\n",
    "fileDir <- \"./ExportData/\"\n",
    "ipynbName <- \"220525_LC-M001-DIRAC-prot-vs-txn_StatisticalTest-GOBP_ver2-2_\"\n",
    "fileName <- \"inter-group-comparison.xlsx\"\n",
    "saveWorkbook(workbook, file=str_c(fileDir,ipynbName,fileName), overwrite=TRUE)"
   ]
  },
  {
   "cell_type": "markdown",
   "id": "40c06919-111f-4866-8209-02234fb94b95",
   "metadata": {},
   "source": [
    "# — Go back to the main Python notebook —  "
   ]
  },
  {
   "cell_type": "markdown",
   "id": "71adff3d-628b-4d88-817e-1450a1d14d84",
   "metadata": {},
   "source": [
    "# — Session information —"
   ]
  },
  {
   "cell_type": "code",
   "execution_count": null,
   "id": "5e55c69b-50c9-49fb-8216-6d54a0c9a7ea",
   "metadata": {},
   "outputs": [],
   "source": [
    "sessionInfo()"
   ]
  }
 ],
 "metadata": {
  "kernelspec": {
   "display_name": "arivale-r - R",
   "language": "R",
   "name": "conda-env-arivale-r-r"
  },
  "language_info": {
   "codemirror_mode": "r",
   "file_extension": ".r",
   "mimetype": "text/x-r-source",
   "name": "R",
   "pygments_lexer": "r",
   "version": "4.1.1"
  },
  "widgets": {
   "application/vnd.jupyter.widget-state+json": {
    "state": {},
    "version_major": 2,
    "version_minor": 0
   }
  }
 },
 "nbformat": 4,
 "nbformat_minor": 5
}
