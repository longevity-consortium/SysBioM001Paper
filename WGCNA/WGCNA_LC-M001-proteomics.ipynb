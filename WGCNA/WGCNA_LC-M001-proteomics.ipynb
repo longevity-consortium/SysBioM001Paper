{
 "cells": [
  {
   "cell_type": "markdown",
   "metadata": {},
   "source": [
    "# WGCNA of LC M001 Proteomics"
   ]
  },
  {
   "cell_type": "markdown",
   "metadata": {},
   "source": [
    "***by Tomasz Wilmanski***  \n",
    "\n",
    "In this notebook, weighted gene correlation network analysis (WGCNA; Langfelder, P. & Horvath, S. BMC Bioinform. 2008) is applied to the Longevity Consortium (LC) M001 proteomics dataset. This notebook is written by R.  "
   ]
  },
  {
   "cell_type": "code",
   "execution_count": null,
   "metadata": {},
   "outputs": [],
   "source": [
    "#install.packages(c(\"matrixStats\", \"Hmisc\", \"splines\", \"foreach\", \"doParallel\", \"fastcluster\", \"dynamicTreeCut\", \"survival\")) \n",
    "BiocManager::install((c(\"GO.db\", \"preprocessCore\", \"impute\")))\n",
    "BiocManager::install('WGCNA')"
   ]
  },
  {
   "cell_type": "code",
   "execution_count": null,
   "metadata": {},
   "outputs": [],
   "source": [
    "library(robustHD)\n",
    "# from https://gist.github.com/stevenworthington/3178163\n",
    "ipak <- function(pkg){\n",
    "    new.pkg <- pkg[!(pkg %in% installed.packages()[, \"Package\"])]\n",
    "    if (length(new.pkg))\n",
    "        install.packages(new.pkg, dependencies = TRUE, repos = \"http://cran.r-project.org\")\n",
    "    sapply(pkg, require, character.only = TRUE)\n",
    "}\n",
    "\n",
    "# usage\n",
    "packages <- c(\"ggplot2\",  \"gplots\", \"lattice\", \"plyr\", \"reshape2\",\n",
    "              \"RColorBrewer\", \"grid\", \"gridExtra\", \"igraph\", \"igraphdata\")\n",
    "suppressMessages(ipak(packages))"
   ]
  },
  {
   "cell_type": "code",
   "execution_count": null,
   "metadata": {},
   "outputs": [],
   "source": [
    "library(WGCNA);\n",
    "options(stringsAsFactors = FALSE)\n",
    "(.packages())\n",
    "library(robustHD)"
   ]
  },
  {
   "cell_type": "code",
   "execution_count": null,
   "metadata": {},
   "outputs": [],
   "source": [
    "#load proteomics data without imputation\n",
    "LC_data = read.csv(\"proteomics_not_imputed.csv\");\n",
    "# tranpose data \n",
    "LC_data=t(LC_data)\n",
    "#Take a quick look at what is in the data set:\n",
    "dim(LC_data)\n",
    "head(LC_data)\n",
    "#save column names\n",
    "LC_data_names<-LC_data[1,]\n",
    "#convert to df\n",
    "LC_data=as.data.frame(LC_data)\n",
    "dim(LC_data)\n",
    "#subset just the sample rows in the df\n",
    "LC_data=LC_data[3:50,]\n",
    "head(LC_data)"
   ]
  },
  {
   "cell_type": "code",
   "execution_count": null,
   "metadata": {},
   "outputs": [],
   "source": [
    "#name columns in df\n",
    "colnames(LC_data)<-LC_data_names\n",
    "#convert df to numeric and replace 0 with NA (missing)\n",
    "num_df<-sapply(LC_data, function(x) as.numeric(as.character(x)))\n",
    "num_df[num_df==0.00]<-NA\n",
    "dim(num_df)"
   ]
  },
  {
   "cell_type": "code",
   "execution_count": null,
   "metadata": {},
   "outputs": [],
   "source": [
    "#save the processed df\n",
    "write.csv(num_df,'proteomics_cleaned.csv')"
   ]
  },
  {
   "cell_type": "code",
   "execution_count": null,
   "metadata": {},
   "outputs": [],
   "source": [
    "#filter columns (proteins) by missingness using code provided by WGCNA atuhors (50% default threshold)\n",
    "gsg = goodSamplesGenes(num_df, verbose = 1);\n",
    "gsg$allOK\n",
    "if (!gsg$allOK)\n",
    "{\n",
    "  # Optionally, print the gene and sample names that were removed:\n",
    "  if (sum(!gsg$goodGenes)>0) \n",
    "     printFlush(paste(\"Removing genes:\", paste(names(num_df)[!gsg$goodGenes], collapse = \", \")));\n",
    "  if (sum(!gsg$goodSamples)>0) \n",
    "     printFlush(paste(\"Removing samples:\", paste(rownames(num_df)[!gsg$goodSamples], collapse = \", \")));\n",
    "  # Remove the offending genes and samples from the data:\n",
    "  num_df = num_df[gsg$goodSamples, gsg$goodGenes]\n",
    "}"
   ]
  },
  {
   "cell_type": "code",
   "execution_count": null,
   "metadata": {},
   "outputs": [],
   "source": [
    "dim(num_df)"
   ]
  },
  {
   "cell_type": "code",
   "execution_count": null,
   "metadata": {},
   "outputs": [],
   "source": [
    "#exclude proteins not mapped to mouse (human proteins)\n",
    "non_human_genes<-c(\n",
    "'sp|ALBU_BOVIN|',\n",
    "'sp|K1C10_HUMAN|',\n",
    "'sp|K1C9_HUMAN|',\n",
    "'sp|K22E_HUMAN|',\n",
    "'sp|K2C1_HUMAN|',\n",
    "'sp|TRYP_PIG|')\n",
    "dim(num_df)\n",
    "num_df = num_df[,!(colnames(num_df) %in% non_human_genes)]\n",
    "dim(num_df)"
   ]
  },
  {
   "cell_type": "code",
   "execution_count": null,
   "metadata": {},
   "outputs": [],
   "source": []
  },
  {
   "cell_type": "code",
   "execution_count": null,
   "metadata": {},
   "outputs": [],
   "source": [
    "# now that the data has been processed and cleaned accordingly, the next step is to choose the right beta value to approximate \n",
    "# a scale free topology\n",
    "# Choose a set of soft-thresholding powers\n",
    "powers = c(c(1:10), seq(from = 11, to=15, by=1))\n",
    "# Call the network topology analysis function\n",
    "sft = pickSoftThreshold(num_df, powerVector = powers, verbose = 5,corOptions=c(use='p',method='spearman'), networkType='signed hybrid')\n",
    "# Plot the results:\n",
    "#sizeGrWindow(9, 5)\n",
    "par(mfrow = c(1,2));\n",
    "cex1 = 0.8;\n",
    "# Scale-free topology fit index as a function of the soft-thresholding power\n",
    "plot(sft$fitIndices[,1], -sign(sft$fitIndices[,3])*sft$fitIndices[,2],\n",
    "     xlab=\"Soft Threshold (power)\",ylab=\"Scale Free Topology Model Fit,signed R^2\",type=\"n\",\n",
    "    main = paste(\"Scale independence\"));\n",
    "text(sft$fitIndices[,1], -sign(sft$fitIndices[,3])*sft$fitIndices[,2],\n",
    "    labels=powers,cex=cex1,col=\"red\");\n",
    "# this line corresponds to using an R^2 cut-off of h\n",
    "abline(h=0.80,col=\"red\")\n",
    "# Mean connectivity as a function of the soft-thresholding power\n",
    "plot(sft$fitIndices[,1], sft$fitIndices[,5],\n",
    "    xlab=\"Soft Threshold (power)\",ylab=\"Mean Connectivity\", type=\"n\",\n",
    "    main = paste(\"Mean connectivity\"))\n",
    "text(sft$fitIndices[,1], sft$fitIndices[,5], labels=powers, cex=cex1,col=\"red\")"
   ]
  },
  {
   "cell_type": "code",
   "execution_count": null,
   "metadata": {},
   "outputs": [],
   "source": [
    "#generate the adjacency matrix using the chosen soft-thresholding power\n",
    "softPower = 7;\n",
    "adjacency = adjacency(num_df, power = softPower,corOptions=list(use='p',method='spearman'),type = \"signed hybrid\" );"
   ]
  },
  {
   "cell_type": "code",
   "execution_count": null,
   "metadata": {},
   "outputs": [],
   "source": [
    "# Turn adjacency into topological overlap\n",
    "TOM = TOMsimilarity(adjacency,TOMType = \"signed\");\n",
    "dissTOM = 1-TOM"
   ]
  },
  {
   "cell_type": "code",
   "execution_count": null,
   "metadata": {
    "scrolled": true
   },
   "outputs": [],
   "source": [
    "# Call the hierarchical clustering function\n",
    "geneTree = hclust(as.dist(dissTOM), method = \"average\");\n",
    "# Plot the resulting clustering tree (dendrogram)\n",
    "#sizeGrWindow(12,9)\n",
    "plot(geneTree, xlab=\"\", sub=\"\", main = \"Gene clustering on TOM-based dissimilarity\",\n",
    "    labels = FALSE, hang = 0.04);"
   ]
  },
  {
   "cell_type": "code",
   "execution_count": null,
   "metadata": {},
   "outputs": [],
   "source": [
    "#We like large modules, so we set the minimum module size relatively high:\n",
    "minModuleSize = 30;\n",
    "# Module identification using dynamic tree cut:\n",
    "dynamicMods = cutreeDynamic(dendro = geneTree, distM = dissTOM,\n",
    "              deepSplit = 3, pamRespectsDendro = FALSE,\n",
    "              minClusterSize = minModuleSize);\n",
    "table(dynamicMods)"
   ]
  },
  {
   "cell_type": "code",
   "execution_count": null,
   "metadata": {},
   "outputs": [],
   "source": [
    "# Convert numeric lables into colors\n",
    "dynamicColors = labels2colors(dynamicMods)\n",
    "table(dynamicColors)\n",
    "# Plot the dendrogram and colors underneath\n",
    "#sizeGrWindow(8,6)\n",
    "plotDendroAndColors(geneTree, dynamicColors, \"Dynamic Tree Cut\",\n",
    "                  dendroLabels = FALSE, hang = 0.03,\n",
    "                  addGuide = TRUE, guideHang = 0.05,\n",
    "                  main = \"Gene dendrogram and module colors\")"
   ]
  },
  {
   "cell_type": "code",
   "execution_count": null,
   "metadata": {},
   "outputs": [],
   "source": [
    "\n",
    "# Calculate eigengenes\n",
    "MEList = moduleEigengenes(num_df, colors = dynamicColors,nPC = 2)\n",
    "MEs = MEList$eigengenes\n",
    "# Calculate dissimilarity of module eigengenes\n",
    "MEDiss = 1-cor(MEs);\n",
    "# Cluster module eigengenes\n",
    "METree = hclust(as.dist(MEDiss), method = \"average\");\n",
    "# Plot the result\n",
    "#sizeGrWindow(7, 6)\n",
    "plot(METree, main = \"Clustering of module eigengenes\",\n",
    "xlab = \"\", sub = \"\")\n",
    "MEDissThres = .2\n",
    "abline(h=MEDissThres, col = \"red\")"
   ]
  },
  {
   "cell_type": "code",
   "execution_count": null,
   "metadata": {},
   "outputs": [],
   "source": [
    "\n",
    "# Call an automatic merging function\n",
    "merge = mergeCloseModules(num_df, dynamicColors, cutHeight = MEDissThres, verbose = 3)\n",
    "# The merged module colors\n",
    "mergedColors = merge$colors;\n",
    "# Eigengenes of the new merged modules:\n",
    "mergedMEs = merge$newMEs;\n",
    "#pdf(file = \"Plots/geneDendro-3.pdf\", wi = 9, he = 6)\n",
    "plotDendroAndColors(geneTree, cbind(dynamicColors, mergedColors),\n",
    "c(\"Dynamic Tree Cut\", \"Merged dynamic\"),\n",
    "dendroLabels = FALSE, hang = 0.03,\n",
    "addGuide = TRUE, guideHang = 0.05)\n",
    "# Plot the cut line into the dendrogram\n",
    "\n",
    "#dev.off()"
   ]
  },
  {
   "cell_type": "code",
   "execution_count": null,
   "metadata": {},
   "outputs": [],
   "source": [
    "# Rename to moduleColors\n",
    "moduleColors = mergedColors\n",
    "# Construct numerical labels corresponding to the colors\n",
    "colorOrder = c(\"grey\", standardColors(50));\n",
    "moduleLabels = match(moduleColors, colorOrder)-1;\n",
    "MEs = mergedMEs;\n",
    "# Save module colors and labels for use in subsequent parts\n",
    "#save(MEs, moduleLabels, moduleColors, geneTree, file = \"FemaleLiver-02-networkConstruction-stepByStep.RData\")"
   ]
  },
  {
   "cell_type": "code",
   "execution_count": null,
   "metadata": {},
   "outputs": [],
   "source": [
    "#Save module eigenvalues\n",
    "rownames(MEs)<-rownames(LC_data)\n",
    "write.csv(MEs,'MEs.csv')"
   ]
  },
  {
   "cell_type": "code",
   "execution_count": null,
   "metadata": {},
   "outputs": [],
   "source": [
    "# Define numbers of genes and samples\n",
    "nGenes = ncol(num_df);\n",
    "nSamples = nrow(num_df);\n",
    "geneModuleMembership = as.data.frame(cor(num_df, MEs, use = \"p\"));\n",
    "MMPvalue = as.data.frame(corPvalueStudent(as.matrix(geneModuleMembership), nSamples));"
   ]
  },
  {
   "cell_type": "code",
   "execution_count": null,
   "metadata": {},
   "outputs": [],
   "source": [
    "modNames = substring(names(MEs), 3)\n",
    "names(geneModuleMembership) = paste(\"MM\", modNames, sep=\"\");\n",
    "names(MMPvalue) = paste(\"p.MM\", modNames, sep=\"\");\n",
    "write.csv(geneModuleMembership[order(geneModuleMembership$MMdarkgreen),],'module_membership.csv')"
   ]
  },
  {
   "cell_type": "code",
   "execution_count": null,
   "metadata": {},
   "outputs": [],
   "source": [
    "# Recalculate topological overlap\n",
    "TOM = TOMsimilarity(adjacency,TOMType = \"signed\");\n",
    "# Read in the annotation file\n",
    "annot = read.csv(file = \"annotated_genes.csv\");\n",
    "# Select module\n",
    "module = \"darkgreen\";\n",
    "# Select module probes\n",
    "probes = colnames(num_df)\n",
    "inModule = (moduleColors==module);\n",
    "modProbes = probes[inModule];\n",
    "# Select the corresponding Topological Overlap\n",
    "modTOM = TOM[inModule, inModule];\n",
    "dimnames(modTOM) = list(modProbes, modProbes)\n",
    "# Export the network into an edge list file VisANT can read\n",
    "vis = exportNetworkToVisANT(modTOM,\n",
    "  file = paste(\"VisANTInput-\", module, \".txt\", sep=\"\"),\n",
    "  weighted = TRUE,\n",
    "  threshold = 0,\n",
    "  probeToGene = data.frame(annot$gene, annot$final_gene) )"
   ]
  },
  {
   "cell_type": "code",
   "execution_count": null,
   "metadata": {},
   "outputs": [],
   "source": [
    "length(modProbes)"
   ]
  },
  {
   "cell_type": "code",
   "execution_count": null,
   "metadata": {},
   "outputs": [],
   "source": [
    "nTop = 30;\n",
    "IMConn = softConnectivity(num_df[, modProbes],corOptions=list(use='p',method='spearman'),type=\"signed hybrid\",power=7);\n",
    "top = (rank(-IMConn) <= nTop)\n",
    "vis = exportNetworkToVisANT(modTOM[top, top],\n",
    "  file = paste(\"VisANTInput-\", module, \"-top30.txt\", sep=\"\"),\n",
    "  weighted = TRUE,\n",
    "  threshold = 0,\n",
    "  probeToGene = data.frame(annot$gene, annot$final_gene) )"
   ]
  },
  {
   "cell_type": "code",
   "execution_count": null,
   "metadata": {},
   "outputs": [],
   "source": [
    "sessionInfo()"
   ]
  },
  {
   "cell_type": "code",
   "execution_count": null,
   "metadata": {},
   "outputs": [],
   "source": [
    "connectivity<-as.data.frame(modProbes)\n",
    "connectivity$connect<-IMConn\n",
    "connectivity$tom_score<-rowSums(modTOM)\n",
    "connectivity[order(connectivity$connect),]\n",
    "write.csv(connectivity,'darkgreen_connectivity.csv')"
   ]
  },
  {
   "cell_type": "code",
   "execution_count": null,
   "metadata": {},
   "outputs": [],
   "source": [
    "module = \"darkgreen\"\n",
    "column = match(module, modNames);\n",
    "moduleGenes = moduleColors==module;"
   ]
  },
  {
   "cell_type": "code",
   "execution_count": null,
   "metadata": {},
   "outputs": [],
   "source": [
    "genes<-t(num_df)\n",
    "d<-as.data.frame(moduleColors)\n",
    "d$gene<-rownames(genes)\n",
    "head(d)"
   ]
  },
  {
   "cell_type": "code",
   "execution_count": null,
   "metadata": {},
   "outputs": [],
   "source": [
    "write.csv(d,'module_assignments.csv')"
   ]
  }
 ],
 "metadata": {
  "anaconda-cloud": {},
  "kernelspec": {
   "display_name": "arivale-r - R",
   "language": "R",
   "name": "conda-env-arivale-r-r"
  },
  "language_info": {
   "codemirror_mode": "r",
   "file_extension": ".r",
   "mimetype": "text/x-r-source",
   "name": "R",
   "pygments_lexer": "r",
   "version": "4.1.1"
  }
 },
 "nbformat": 4,
 "nbformat_minor": 4
}
