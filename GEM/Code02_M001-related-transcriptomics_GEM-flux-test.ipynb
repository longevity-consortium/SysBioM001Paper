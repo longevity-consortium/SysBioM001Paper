{
 "cells": [
  {
   "cell_type": "markdown",
   "id": "c084f264-9e5f-4a50-84f6-3bb3a4357aec",
   "metadata": {},
   "source": [
    "# GEM Reconstruction with LC M001-related Transcriptomics — Statistical Tests for Flux Values"
   ]
  },
  {
   "cell_type": "markdown",
   "id": "254c1e6c-d9ba-43fd-a532-f758f4410eb7",
   "metadata": {},
   "source": [
    "***by Kengo Watanabe***  \n",
    "\n",
    "In the main Python notebook, the maximum flux values, which were calculated using mouse genome-scale metabolic models (GEMs; Khodaee, S. et al. Sci. Rep. 2020) with the Longevity Consortium (LC) M001-related transcriptomics dataset (Tyshkovskiy, A. et al. Cell Metab. 2019), are compared.  \n",
    "**–> To maintain the consistency with the DIRAC analyses, statistical tests are performed in this sub-notebook with R kernel.**  \n",
    "\n",
    "Input:  \n",
    "* Cleaned flux data: 220610_LC-M001-related-transcriptomics-GEM-ver2-4_FluxAnalysis_max-flux-raw-data.tsv  \n",
    "* Cleaned sample–model metadata: 220610_LC-M001-related-transcriptomics-GEM-ver2-4_FluxAnalysis_sample-metadata.tsv  \n",
    "* Cleaned reaction metadata: 220610_LC-M001-related-transcriptomics-GEM-ver2-4_FluxAnalysis_reaction-metadata.xlsx  \n",
    "\n",
    "Output:  \n",
    "* Supplementary Data 3  \n",
    "\n",
    "Original notebook (memo for my future tracing):  \n",
    "* dalek:[JupyterLab HOME]/220606_LC-M001-related-transcriptomics-GEM/220610_LC-M001-related-transcriptomics-GEM-ver2-4_StatisticalTest.ipynb  "
   ]
  },
  {
   "cell_type": "code",
   "execution_count": null,
   "id": "f141e4af-e174-4f1a-a88e-7e1396a865cd",
   "metadata": {},
   "outputs": [],
   "source": [
    "library(\"tidyverse\")\n",
    "options(repr.plot.width=5, repr.plot.height=5)#Default=7x7\n",
    "\n",
    "#CRAN\n",
    "for (package in c(\"readxl\", \"dunn.test\", \"openxlsx\")) {\n",
    "    #install.packages(package)\n",
    "    eval(bquote(library(.(package))))\n",
    "    print(str_c(package, \": \", as.character(packageVersion(package))))\n",
    "}"
   ]
  },
  {
   "cell_type": "markdown",
   "id": "a650b434-d7ec-4672-b328-1c45f5386d58",
   "metadata": {},
   "source": [
    "## 1. Clean the original tables"
   ]
  },
  {
   "cell_type": "markdown",
   "id": "c5093d72-eec1-48ef-9995-62eb903b9722",
   "metadata": {},
   "source": [
    "> Just import the data and metadata cleaned in the main notebook.  "
   ]
  },
  {
   "cell_type": "code",
   "execution_count": null,
   "id": "c1c60f69-ba31-468b-a9bd-9c370c8bb979",
   "metadata": {},
   "outputs": [],
   "source": [
    "#Import flux data\n",
    "fileDir <- \"./ExportData/\"\n",
    "ipynbName <- \"220610_LC-M001-related-transcriptomics-GEM-ver2-4_FluxAnalysis_\"\n",
    "fileName <- \"max-flux-raw-data.tsv\"\n",
    "temp <- read_delim(str_c(fileDir,ipynbName,fileName), delim=\"\\t\")\n",
    "print(str_c(\"nrow: \",nrow(temp)))\n",
    "head(temp)\n",
    "\n",
    "flux_data <- temp"
   ]
  },
  {
   "cell_type": "code",
   "execution_count": null,
   "id": "d02334e8-8a46-445a-a85f-33f62cef518c",
   "metadata": {},
   "outputs": [],
   "source": [
    "#Import sample-model metadata\n",
    "fileDir <- \"./ExportData/\"\n",
    "ipynbName <- \"220610_LC-M001-related-transcriptomics-GEM-ver2-4_FluxAnalysis_\"\n",
    "fileName <- \"sample-metadata.tsv\"\n",
    "temp <- read_delim(str_c(fileDir,ipynbName,fileName), delim=\"\\t\")\n",
    "print(str_c(\"nrow: \",nrow(temp)))\n",
    "head(temp)\n",
    "\n",
    "sample_meta <- temp"
   ]
  },
  {
   "cell_type": "code",
   "execution_count": null,
   "id": "88d6b360-6fbc-41b0-b7db-293c6b31555e",
   "metadata": {},
   "outputs": [],
   "source": [
    "#Import reaction metadata\n",
    "fileDir <- \"./ExportData/\"\n",
    "ipynbName <- \"220610_LC-M001-related-transcriptomics-GEM-ver2-4_FluxAnalysis_\"\n",
    "fileName <- \"reaction-metadata.xlsx\"\n",
    "sheetName <- \"Reaction\"\n",
    "temp <- read_excel(str_c(fileDir,ipynbName,fileName), sheet=sheetName)\n",
    "print(str_c(\"nrow: \",nrow(temp)))\n",
    "head(temp)\n",
    "\n",
    "rxn_meta <- temp"
   ]
  },
  {
   "cell_type": "markdown",
   "id": "66826885-fc0a-4227-ab23-6a02bddb4fcd",
   "metadata": {},
   "source": [
    "## 2. Check data structure of the flux values"
   ]
  },
  {
   "cell_type": "markdown",
   "id": "72d8277e-e430-4ebe-b343-f2ec996eb776",
   "metadata": {},
   "source": [
    "> See the main notebook"
   ]
  },
  {
   "cell_type": "markdown",
   "id": "a503f8cf-53d8-4eae-b6ef-6985ad62dd65",
   "metadata": {},
   "source": [
    "## 3. Compare flux values"
   ]
  },
  {
   "cell_type": "markdown",
   "id": "9d6c2684-986b-43f0-bd8a-e1abf62ab2ad",
   "metadata": {},
   "source": [
    "> 1. Test the rank of maximum flux values across interventions for each reaction using Kruskal–Wallis H-test.  \n",
    "> 2. Then, perform post-hoc comparisons between control vs. each intervention using Dunn's test.  \n",
    ">\n",
    "> To increase the statistical power, samples are grouped by intervention (i.e., strain, age, and sex are pooled) in the Kruskal–Wallis H-test. Note that Kruskal-Wallis H-test can shrink the variance utilizing all samples (per reaction), whose statistical power is better than the repeated Mann–Whitney U-tests (a.k.a., Wilcoxon rank-sum tests) in the case of small sample size. Although tricky, the P-value adjustment in (1) is performed across all reactions under the assumption that reactions are independent, which would be more conservative and less likely raise referees' eyebrows than using nominal P-value cutoff. Also, the reactions assigned with invariable flux values across all groups are eliminated from tests in advance, which can reduce the number of hypotheses. Because the post-hoc comparisons (2) are to address the effect of each intervention within a specific reaction, the P-values are adjusted across interventions only within the reaction (not across reactions). "
   ]
  },
  {
   "cell_type": "markdown",
   "id": "5ccb0190-0681-461d-803d-962932927490",
   "metadata": {},
   "source": [
    "### 3-1. Kruskal–Wallis H-test (Flux ~ Intervention), followed by Dunn's test (Intervention)"
   ]
  },
  {
   "cell_type": "markdown",
   "id": "d460145a-99b5-49e1-a70a-76f98dc6c0a5",
   "metadata": {},
   "source": [
    "#### 3-1-1. Reactions to be eliminated from the tests"
   ]
  },
  {
   "cell_type": "markdown",
   "id": "3882140f-d770-43ec-9114-6c6f4975d56e",
   "metadata": {},
   "source": [
    "> Of note, kruskal.test() fills NA for the case of invariable values, but dunn.test() produces an error.  \n",
    "> –> Hence, it is needed to eliminate the invariable reactions manually.  "
   ]
  },
  {
   "cell_type": "code",
   "execution_count": null,
   "id": "e11b0686-8ae4-46a6-9965-664fe7ea140e",
   "metadata": {},
   "outputs": [],
   "source": [
    "#Calculate SD per category\n",
    "temp <- flux_data %>%\n",
    "    tidyr::gather(key=ModelID, value=Flux, -ReactionID) %>%\n",
    "    dplyr::left_join(., sample_meta, by=\"ModelID\") %>%\n",
    "    dplyr::group_by(ReactionID, Category) %>%\n",
    "    dplyr::summarize(Count=n(), SD=sd(Flux)) %>%\n",
    "    dplyr::ungroup()\n",
    "print(str_c(\"Before:\",nrow(temp)))\n",
    "\n",
    "#Select the reactions assigned with invariable flux values in any category\n",
    "temp <- temp %>%\n",
    "    dplyr::filter(SD==0.0)\n",
    "print(str_c(\"After:\",nrow(temp)))\n",
    "head(temp)\n",
    "\n",
    "#Check the reactions assigned with invariable flux values in all categories\n",
    "temp1 <- temp %>%\n",
    "    dplyr::group_by(ReactionID) %>%\n",
    "    dplyr::summarize(nZeros=n()) %>%\n",
    "    dplyr::ungroup() %>%\n",
    "    dplyr::filter(nZeros==length(unique(sample_meta$Category)))\n",
    "\n",
    "#Check the reactions assigned with invariable flux values per category\n",
    "temp2 <- temp %>%\n",
    "    dplyr::group_by(Category) %>%\n",
    "    dplyr::summarize(nZeros=n()) %>%\n",
    "    dplyr::ungroup()\n",
    "\n",
    "print(str_c(\"All reactions in the model: \", nrow(rxn_meta)))\n",
    "print(str_c(\"Reactions assigned with flux values: \", nrow(flux_data)))\n",
    "print(str_c(\" -> Invariable in any category: \", length(unique(temp$ReactionID))))\n",
    "print(str_c(\" -> Invariable in all categories: \", nrow(temp1)))\n",
    "print(str_c(\" -> Invariable per category:\"))\n",
    "temp2\n",
    "\n",
    "rxn_removed <- temp1"
   ]
  },
  {
   "cell_type": "markdown",
   "id": "285aab8c-25ba-440e-8b3b-88471545ca64",
   "metadata": {},
   "source": [
    "#### 3-1-2. Simultaneously perform all Kruskal–Wallis H-tests"
   ]
  },
  {
   "cell_type": "code",
   "execution_count": null,
   "id": "7ca37288-67a0-4d79-9693-e86a1aaaf87e",
   "metadata": {},
   "outputs": [],
   "source": [
    "#Prepare DF\n",
    "group_vec <- c(\"Con1\", \"Acar\", \"17aE\", \"Prot\", \"Rapa\", \"CalR\",\n",
    "               \"Con2\", \"MetR\", \"GHRw\", \"GHRk\", \"SneW\", \"SneD\")\n",
    "temp <- flux_data %>%\n",
    "    tidyr::gather(key=ModelID, value=Flux, -ReactionID) %>%\n",
    "    dplyr::left_join(., sample_meta, by=\"ModelID\") %>%\n",
    "    dplyr::mutate(Intervention=factor(Intervention, levels=group_vec),\n",
    "                  Sex=factor(Sex, levels=c(\"F\", \"M\")),\n",
    "                  Age=factor(Age, levels=c(\"05M\", \"06M\", \"12M\", \"14M\")))\n",
    "print(str_c(\"Before:\",nrow(temp)))\n",
    "\n",
    "#Eliminate the invariable reactions\n",
    "temp <- temp %>%\n",
    "    dplyr::filter(!(ReactionID %in% rxn_removed$ReactionID))\n",
    "print(str_c(\"After:\",nrow(temp)))\n",
    "head(temp)\n",
    "\n",
    "#Simultaneously perform all tests using tidyr::nest()\n",
    "temp <- temp %>%\n",
    "    dplyr::group_by(ReactionID) %>%\n",
    "    tidyr::nest() %>%#New column name becomes \"data\"\n",
    "    dplyr::mutate(Kruskal=lapply(data, function(tbl) {kruskal.test(Flux~Intervention, data=tbl)})) %>%\n",
    "    dplyr::ungroup()\n",
    "print(nrow(temp))\n",
    "print(head(temp))#print() because Jupyter Lab tries to display list contents\n",
    "\n",
    "model1 <- temp"
   ]
  },
  {
   "cell_type": "code",
   "execution_count": null,
   "id": "9f67faae-2485-4984-bc40-e1792e8cd3bd",
   "metadata": {},
   "outputs": [],
   "source": [
    "#Check result object\n",
    "model1$Kruskal[[1]]\n",
    "str(model1$Kruskal[[1]])"
   ]
  },
  {
   "cell_type": "code",
   "execution_count": null,
   "id": "bdfc4880-0b03-4697-a77b-1c1e81131d63",
   "metadata": {},
   "outputs": [],
   "source": [
    "#Prepare summary table of Kruskal-Wallis H-tests\n",
    "label <- \"Intervention\"\n",
    "temp <- model1 %>%\n",
    "    dplyr::mutate(\"{label}_DF\":=sapply(Kruskal, function(htest) {unname(htest[[\"parameter\"]])}),\n",
    "                  \"{label}_Hstat\":=sapply(Kruskal, function(htest) {unname(htest[[\"statistic\"]])}),\n",
    "                  \"{label}_Pval\":=sapply(Kruskal, function(htest) {unname(htest[[\"p.value\"]])})) %>%\n",
    "    #P-value adjustment with the Benjamini-Hochberg method\n",
    "    ##Using !!as.name() in the following line, because simple {{}} and !! didn't recognize?\n",
    "    dplyr::mutate(\"{label}_AdjPval\":=p.adjust(!!as.name(str_c(label,\"_Pval\")), method=\"BH\")) %>%\n",
    "    dplyr::select(-data, -Kruskal)\n",
    "\n",
    "print(str_c(\"nrow: \",nrow(temp)))\n",
    "head(temp)\n",
    "\n",
    "model1_summary <- temp"
   ]
  },
  {
   "cell_type": "code",
   "execution_count": null,
   "id": "570cc64f-c8d7-4f44-8bc8-384f42811868",
   "metadata": {},
   "outputs": [],
   "source": [
    "#Check\n",
    "temp1 <- str_subset(names(model1_summary), \"Pval\")\n",
    "for (pval in temp1) {\n",
    "    temp <- model1_summary %>%\n",
    "        dplyr::filter(!!as.name(pval)<0.05)\n",
    "    print(str_c(pval,\" < 0.05: \",nrow(temp)))\n",
    "}"
   ]
  },
  {
   "cell_type": "markdown",
   "id": "2546d7a8-3a60-43e4-bee5-30b31d448149",
   "metadata": {},
   "source": [
    "#### 3-1-3. Simultaneously perform all Dunn's tests"
   ]
  },
  {
   "cell_type": "code",
   "execution_count": null,
   "id": "f34908a0-ce43-4ecb-9b95-f17e4ca16158",
   "metadata": {},
   "outputs": [],
   "source": [
    "#Prepare DF\n",
    "group_vec <- c(\"Con1\", \"Acar\", \"17aE\", \"Prot\", \"Rapa\", \"CalR\",\n",
    "               \"Con2\", \"MetR\", \"GHRw\", \"GHRk\", \"SneW\", \"SneD\")\n",
    "temp <- flux_data %>%\n",
    "    tidyr::gather(key=ModelID, value=Flux, -ReactionID) %>%\n",
    "    dplyr::left_join(., sample_meta, by=\"ModelID\") %>%\n",
    "    dplyr::mutate(Intervention=factor(Intervention, levels=group_vec),\n",
    "                  Sex=factor(Sex, levels=c(\"F\", \"M\")),\n",
    "                  Age=factor(Age, levels=c(\"05M\", \"06M\", \"12M\", \"14M\")))\n",
    "print(str_c(\"Before:\",nrow(temp)))\n",
    "\n",
    "#Eliminate the invariable reactions\n",
    "temp <- temp %>%\n",
    "    dplyr::filter(!(ReactionID %in% rxn_removed$ReactionID))\n",
    "print(str_c(\"After:\",nrow(temp)))\n",
    "head(temp)\n",
    "\n",
    "#Simultaneously perform all tests using tidyr::nest()\n",
    "temp <- temp %>%\n",
    "    dplyr::group_by(ReactionID) %>%\n",
    "    tidyr::nest() %>%#New column name becomes \"data\"\n",
    "    dplyr::mutate(Dunn=lapply(data, function(tbl) {\n",
    "        #Save a temporal object to suppress too many output texts from dunn.test()\n",
    "        invisible(capture.output(output <- as_tibble(dunn.test(tbl$Flux, g=tbl$Intervention,\n",
    "                                                               method=\"none\", kw=FALSE, label=FALSE,\n",
    "                                                               wrap=FALSE, table=FALSE, list=FALSE,\n",
    "                                                               rmc=FALSE, alpha=0.05, altp=FALSE))))\n",
    "        output})) %>%\n",
    "    dplyr::ungroup()\n",
    "print(nrow(temp))\n",
    "print(head(temp))#print() because Jupyter Lab tries to display list contents\n",
    "\n",
    "model2 <- temp"
   ]
  },
  {
   "cell_type": "code",
   "execution_count": null,
   "id": "93a5bdfd-249e-418a-888a-53b0860568fe",
   "metadata": {},
   "outputs": [],
   "source": [
    "#Check result object\n",
    "temp <- model2$Dunn[[1]]\n",
    "print(nrow(temp))\n",
    "head(temp)\n",
    "print(str_c(\"nCombinations: \",length(group_vec)*(length(group_vec)-1)/2))"
   ]
  },
  {
   "cell_type": "markdown",
   "id": "c863dc23-a253-4be9-a7d1-0de746997cc0",
   "metadata": {},
   "source": [
    "> –> Comparison labels are based on the matrix of alphabetically ordered column - row, even if setting factor levels in advance...  \n",
    "> (Note: chi2 is same with the Kruskal–Wallis H-statistic.)  "
   ]
  },
  {
   "cell_type": "code",
   "execution_count": null,
   "id": "9a565cf9-fe37-4bf7-8058-193ad51fca57",
   "metadata": {},
   "outputs": [],
   "source": [
    "#Prepare summary table of Dunn's tests\n",
    "category_vec <- c(\"Con1\", \"Con2\", \"GHRw\", \"SneW\")#Each control\n",
    "temp <- model2 %>%\n",
    "    dplyr::select(ReactionID, Dunn)\n",
    "for (category in category_vec) {\n",
    "    #Prepare comparison labels\n",
    "    temp1 <- sample_meta %>%\n",
    "        dplyr::mutate(Intervention=factor(Intervention, levels=group_vec)) %>%\n",
    "        dplyr::arrange(Intervention) %>%\n",
    "        dplyr::filter(Category==!!category)\n",
    "    temp1 <- unique(temp1$Intervention)\n",
    "    baseline <- temp1[1]\n",
    "    comparison_vec <- c()\n",
    "    for (i in 1:length(temp1)) {\n",
    "        contrast <- temp1[i]\n",
    "        if (contrast!=baseline) {\n",
    "            comparison <- str_c(contrast,\"-vs-\",baseline)\n",
    "            comparison_vec <- c(comparison_vec, comparison)\n",
    "        }\n",
    "    }\n",
    "    #Retrieve and add the results per comparison\n",
    "    for (i in 1:length(comparison_vec)) {\n",
    "        label <- comparison_vec[i]\n",
    "        contrast <- str_split(label, \"-vs-\", simplify=TRUE)[1]\n",
    "        baseline <- str_split(label, \"-vs-\", simplify=TRUE)[2]\n",
    "        label_f <- str_c(contrast,\" - \",baseline)\n",
    "        label_r <- str_c(baseline,\" - \",contrast)\n",
    "        temp <- temp %>%\n",
    "            dplyr::mutate(\"{label}_zStat\":=sapply(Dunn, function(tbl) {\n",
    "                              if (label_f %in% tbl$comparisons) {\n",
    "                                  temp1 <- tbl %>%\n",
    "                                      dplyr::filter(comparisons==label_f)\n",
    "                                  temp1$Z[1]\n",
    "                              } else {#Inverse case in Dunn's test\n",
    "                                  temp1 <- tbl %>%\n",
    "                                      dplyr::mutate(negZ=-Z) %>%#Flip the sign of statistic\n",
    "                                      dplyr::filter(comparisons==label_r)\n",
    "                                  temp1$negZ[1]\n",
    "                              }}),\n",
    "                          \"{label}_Pval\":=sapply(Dunn, function(tbl) {\n",
    "                              if (label_f %in% tbl$comparisons) {\n",
    "                                  temp1 <- tbl %>%\n",
    "                                      dplyr::filter(comparisons==label_f)\n",
    "                                  temp1$P[1]\n",
    "                              } else {#Inverse case in Dunn's test\n",
    "                                  temp1 <- tbl %>%\n",
    "                                      dplyr::filter(comparisons==label_r)\n",
    "                                  temp1$P[1]\n",
    "                              }}),\n",
    "                          \"{label}_AdjPval\":=1.0)#Insert dummy column for now\n",
    "    }\n",
    "}\n",
    "temp <- temp %>%\n",
    "    dplyr::select(-Dunn)\n",
    "\n",
    "#P-value adjustment across comparisons with the Holm-Bonferroni method per reaction\n",
    "temp1 <- str_subset(names(temp), \"_Pval\")\n",
    "temp2 <- temp %>%\n",
    "    dplyr::select(ReactionID, all_of(temp1)) %>%\n",
    "    tidyr::gather(key=ColName, value=Pval, -ReactionID) %>%\n",
    "    dplyr::group_by(ReactionID) %>%\n",
    "    dplyr::mutate(AdjPval=p.adjust(Pval, method=\"holm\")) %>%\n",
    "    dplyr::ungroup() %>%\n",
    "    dplyr::select(-Pval) %>%\n",
    "    dplyr::mutate(ColName=str_replace(ColName, \"_Pval\", \"_AdjPval_temp\")) %>%\n",
    "    tidyr::spread(key=ColName, value=AdjPval)\n",
    "\n",
    "#Replace the dummy values with the true adjusted p-values\n",
    "temp <- dplyr::left_join(temp, temp2, by=\"ReactionID\")\n",
    "temp1 <- str_subset(names(temp), \"_AdjPval_temp\")\n",
    "for (col_n in temp1) {\n",
    "    label <- str_replace(col_n, \"_AdjPval_temp\", \"\")\n",
    "    temp <- temp %>%\n",
    "        ##Using !!as.name() in the following line, because simple {{}} and !! didn't recognize?\n",
    "        dplyr::mutate(\"{label}_AdjPval\":=!!as.name(str_c(label,\"_AdjPval_temp\"))) %>%\n",
    "        dplyr::select(-!!as.name(str_c(label,\"_AdjPval_temp\")))\n",
    "}\n",
    "\n",
    "print(str_c(\"nrow: \",nrow(temp)))\n",
    "head(temp)\n",
    "\n",
    "model2_summary <- temp"
   ]
  },
  {
   "cell_type": "code",
   "execution_count": null,
   "id": "6ddf3b75-a02b-4124-b949-586591f6e3ed",
   "metadata": {},
   "outputs": [],
   "source": [
    "#Check\n",
    "temp <- str_subset(names(model2_summary), \"_AdjPval\")\n",
    "model2_summary %>%\n",
    "    dplyr::select(ReactionID, all_of(temp)) %>%\n",
    "    tidyr::gather(key=Comparison, value=AdjPval, -ReactionID) %>%\n",
    "    dplyr::mutate(Comparison=str_replace(Comparison, \"_AdjPval\", \"\")) %>%\n",
    "    dplyr::filter(AdjPval<0.05) %>%\n",
    "    dplyr::group_by(Comparison) %>%\n",
    "    dplyr::summarize(Count=n()) %>%\n",
    "    dplyr::ungroup()\n",
    "\n",
    "temp <- str_subset(names(model2_summary), \"_Pval\")\n",
    "model2_summary %>%\n",
    "    dplyr::select(ReactionID, all_of(temp)) %>%\n",
    "    tidyr::gather(key=Comparison, value=Pval, -ReactionID) %>%\n",
    "    dplyr::mutate(Comparison=str_replace(Comparison, \"_Pval\", \"\")) %>%\n",
    "    dplyr::filter(Pval<0.05) %>%\n",
    "    dplyr::group_by(Comparison) %>%\n",
    "    dplyr::summarize(Count=n()) %>%\n",
    "    dplyr::ungroup()"
   ]
  },
  {
   "cell_type": "markdown",
   "id": "aab4516d-5621-42a5-8a3d-15d4b8443e27",
   "metadata": {},
   "source": [
    "#### 3-1-4. Save summary tables"
   ]
  },
  {
   "cell_type": "markdown",
   "id": "09994dbb-dd40-41af-a89a-17f8fa08ad66",
   "metadata": {},
   "source": [
    "> Because non-parametric tests were performed, median and median absolete deviation (MAD) are used as general statistics.  "
   ]
  },
  {
   "cell_type": "code",
   "execution_count": null,
   "id": "44996e33-91f0-4a30-9f4d-ea2779fa550d",
   "metadata": {},
   "outputs": [],
   "source": [
    "#Calculate general statistics\n",
    "temp <- flux_data %>%\n",
    "    tidyr::gather(key=ModelID, value=Flux, -ReactionID) %>%\n",
    "    dplyr::left_join(., sample_meta, by=\"ModelID\") %>%\n",
    "    dplyr::mutate(Intervention=factor(Intervention, levels=group_vec),\n",
    "                  Sex=factor(Sex, levels=c(\"F\", \"M\")),\n",
    "                  Age=factor(Age, levels=c(\"05M\", \"06M\", \"12M\", \"14M\"))) %>%\n",
    "    dplyr::group_by(ReactionID, Intervention) %>%\n",
    "    dplyr::summarize(Count=n(),\n",
    "                     FluxMedian=median(Flux),\n",
    "                     FluxMAD=mad(Flux, center=median(Flux), constant=1)) %>%\n",
    "    dplyr::ungroup()\n",
    "print(str_c(\"nrow: \",nrow(temp)))\n",
    "head(temp)\n",
    "\n",
    "general_summary <- temp"
   ]
  },
  {
   "cell_type": "code",
   "execution_count": null,
   "id": "d84ecb55-a8ea-4f1d-96ba-c2dd5d61e8d3",
   "metadata": {},
   "outputs": [],
   "source": [
    "#Create a workbook object to save as one single .xlsx file\n",
    "workbook <- createWorkbook()\n",
    "\n",
    "#Prepare reaction metadata sheet\n",
    "sheetName <- \"ReactionMetadata\"\n",
    "addWorksheet(workbook, sheetName=sheetName)\n",
    "writeData(workbook, sheetName, rxn_meta)\n",
    "\n",
    "#Add the summary table to the workbook object\n",
    "##Merge tables\n",
    "temp <- rxn_meta %>%\n",
    "    dplyr::select(ReactionID, ReactionName) %>%\n",
    "    dplyr::filter(ReactionID %in% flux_data$ReactionID)#Reactions assigned with flux values\n",
    "for (group in group_vec) {\n",
    "    temp <- general_summary %>%\n",
    "        dplyr::filter(Intervention==!!group) %>%\n",
    "        dplyr::select(-Intervention) %>%\n",
    "        dplyr::rename(\"{group}_N\":=Count,\n",
    "                      \"{group}_FluxMedian\":=FluxMedian,\n",
    "                      \"{group}_FluxMAD\":=FluxMAD) %>%\n",
    "        dplyr::left_join(temp, ., by=\"ReactionID\")\n",
    "}\n",
    "temp <- temp %>%\n",
    "    dplyr::left_join(., model1_summary, by=\"ReactionID\") %>%#Add NA if not tested (invariable reaction)\n",
    "    dplyr::left_join(., model2_summary, by=\"ReactionID\") %>%#Add NA if not tested (invariable reaction)\n",
    "    dplyr::arrange(Intervention_Pval)\n",
    "print(str_c(\"nrow: \",nrow(temp)))\n",
    "head(temp)\n",
    "##Save the summary table as a new sheet\n",
    "sheetName <- \"Main_vs-each-control\"\n",
    "addWorksheet(workbook, sheetName=sheetName)\n",
    "writeData(workbook, sheetName, temp)\n",
    "\n",
    "#Save the workbook as one single .xlsx file\n",
    "fileDir <- \"./ExportData/\"\n",
    "ipynbName <- \"220610_LC-M001-related-transcriptomics-GEM-ver2-4_StatisticalTest_\"\n",
    "fileName <- \"flux-comparison.xlsx\"\n",
    "saveWorkbook(workbook, file=str_c(fileDir,ipynbName,fileName), overwrite=TRUE)"
   ]
  },
  {
   "cell_type": "markdown",
   "id": "3efc0c7e-d20a-4f0b-93c9-2d889288e535",
   "metadata": {},
   "source": [
    "# — †1. Go back to †1 of the main Python notebook —  "
   ]
  },
  {
   "cell_type": "markdown",
   "id": "5b863250-949a-4596-8b1f-ac3bad841cdf",
   "metadata": {},
   "source": [
    "## 4. Compare flux values between MR and CR"
   ]
  },
  {
   "cell_type": "markdown",
   "id": "f66a2a83-c010-4b8e-9cb9-fc7c0a8eac34",
   "metadata": {},
   "source": [
    "> Model is same as the above Dunn's test, but post-hoc comparisons are differently retrieved to compare MR vs. CR.  "
   ]
  },
  {
   "cell_type": "markdown",
   "id": "141a866b-9d53-4843-bf7f-83f749eaec51",
   "metadata": {},
   "source": [
    "### 4-1. Another post-hoc Dunn's test"
   ]
  },
  {
   "cell_type": "markdown",
   "id": "0d450319-d09a-41c6-aee2-de29dc6fadce",
   "metadata": {},
   "source": [
    "#### 4-1-1. Retrieve the results of target comparisons"
   ]
  },
  {
   "cell_type": "code",
   "execution_count": null,
   "id": "dfa64df3-bffc-4014-b7ec-4210403de0ad",
   "metadata": {},
   "outputs": [],
   "source": [
    "#Prepare summary table of Dunn's tests\n",
    "comparison_vec <- c(\"CalR-vs-Con1\", \"MetR-vs-Con2\", \"MetR-vs-CalR\")\n",
    "temp <- model2 %>%\n",
    "    dplyr::select(ReactionID, Dunn)\n",
    "##Retrieve and add the results per comparison\n",
    "for (i in 1:length(comparison_vec)) {\n",
    "    label <- comparison_vec[i]\n",
    "    contrast <- str_split(label, \"-vs-\", simplify=TRUE)[1]\n",
    "    baseline <- str_split(label, \"-vs-\", simplify=TRUE)[2]\n",
    "    label_f <- str_c(contrast,\" - \",baseline)\n",
    "    label_r <- str_c(baseline,\" - \",contrast)\n",
    "    temp <- temp %>%\n",
    "        dplyr::mutate(\"{label}_zStat\":=sapply(Dunn, function(tbl) {\n",
    "                          if (label_f %in% tbl$comparisons) {\n",
    "                              temp1 <- tbl %>%\n",
    "                                  dplyr::filter(comparisons==label_f)\n",
    "                              temp1$Z[1]\n",
    "                          } else {#Inverse case in Dunn's test\n",
    "                              temp1 <- tbl %>%\n",
    "                                  dplyr::mutate(negZ=-Z) %>%#Flip the sign of statistic\n",
    "                              dplyr::filter(comparisons==label_r)\n",
    "                              temp1$negZ[1]\n",
    "                          }}),\n",
    "                      \"{label}_Pval\":=sapply(Dunn, function(tbl) {\n",
    "                          if (label_f %in% tbl$comparisons) {\n",
    "                              temp1 <- tbl %>%\n",
    "                                  dplyr::filter(comparisons==label_f)\n",
    "                              temp1$P[1]\n",
    "                          } else {#Inverse case in Dunn's test\n",
    "                              temp1 <- tbl %>%\n",
    "                                  dplyr::filter(comparisons==label_r)\n",
    "                              temp1$P[1]\n",
    "                          }}),\n",
    "                      \"{label}_AdjPval\":=1.0)#Insert dummy column for now\n",
    "}\n",
    "temp <- temp %>%\n",
    "    dplyr::select(-Dunn)\n",
    "\n",
    "#P-value adjustment across comparisons with the Holm-Bonferroni method per reaction\n",
    "temp1 <- str_subset(names(temp), \"_Pval\")\n",
    "temp2 <- temp %>%\n",
    "    dplyr::select(ReactionID, all_of(temp1)) %>%\n",
    "    tidyr::gather(key=ColName, value=Pval, -ReactionID) %>%\n",
    "    dplyr::group_by(ReactionID) %>%\n",
    "    dplyr::mutate(AdjPval=p.adjust(Pval, method=\"holm\")) %>%\n",
    "    dplyr::ungroup() %>%\n",
    "    dplyr::select(-Pval) %>%\n",
    "    dplyr::mutate(ColName=str_replace(ColName, \"_Pval\", \"_AdjPval_temp\")) %>%\n",
    "    tidyr::spread(key=ColName, value=AdjPval)\n",
    "\n",
    "#Replace the dummy values with the true adjusted p-values\n",
    "temp <- dplyr::left_join(temp, temp2, by=\"ReactionID\")\n",
    "temp1 <- str_subset(names(temp), \"_AdjPval_temp\")\n",
    "for (col_n in temp1) {\n",
    "    label <- str_replace(col_n, \"_AdjPval_temp\", \"\")\n",
    "    temp <- temp %>%\n",
    "        ##Using !!as.name() in the following line, because simple {{}} and !! didn't recognize?\n",
    "        dplyr::mutate(\"{label}_AdjPval\":=!!as.name(str_c(label,\"_AdjPval_temp\"))) %>%\n",
    "        dplyr::select(-!!as.name(str_c(label,\"_AdjPval_temp\")))\n",
    "}\n",
    "\n",
    "print(str_c(\"nrow: \",nrow(temp)))\n",
    "head(temp)\n",
    "\n",
    "model2_summary <- temp"
   ]
  },
  {
   "cell_type": "code",
   "execution_count": null,
   "id": "067b7eb2-8f47-49aa-b4a1-3221582adcb9",
   "metadata": {},
   "outputs": [],
   "source": [
    "#Check\n",
    "temp <- str_subset(names(model2_summary), \"_AdjPval\")\n",
    "model2_summary %>%\n",
    "    dplyr::select(ReactionID, all_of(temp)) %>%\n",
    "    tidyr::gather(key=Comparison, value=AdjPval, -ReactionID) %>%\n",
    "    dplyr::mutate(Comparison=str_replace(Comparison, \"_AdjPval\", \"\")) %>%\n",
    "    dplyr::filter(AdjPval<0.05) %>%\n",
    "    dplyr::group_by(Comparison) %>%\n",
    "    dplyr::summarize(Count=n()) %>%\n",
    "    dplyr::ungroup()\n",
    "\n",
    "temp <- str_subset(names(model2_summary), \"_Pval\")\n",
    "model2_summary %>%\n",
    "    dplyr::select(ReactionID, all_of(temp)) %>%\n",
    "    tidyr::gather(key=Comparison, value=Pval, -ReactionID) %>%\n",
    "    dplyr::mutate(Comparison=str_replace(Comparison, \"_Pval\", \"\")) %>%\n",
    "    dplyr::filter(Pval<0.05) %>%\n",
    "    dplyr::group_by(Comparison) %>%\n",
    "    dplyr::summarize(Count=n()) %>%\n",
    "    dplyr::ungroup()"
   ]
  },
  {
   "cell_type": "markdown",
   "id": "6417c82e-24a3-4581-9f8c-b578c5f46af6",
   "metadata": {},
   "source": [
    "#### 4-1-2. Save summary tables"
   ]
  },
  {
   "cell_type": "markdown",
   "id": "57f874ff-c8e8-4f07-b989-b7fa245c8c9c",
   "metadata": {},
   "source": [
    "> Because non-parametric tests were performed, median and median absolete deviation (MAD) are used as general statistics.  "
   ]
  },
  {
   "cell_type": "code",
   "execution_count": null,
   "id": "9c3a3b93-93e6-4a2f-96f5-a4e7df41e99b",
   "metadata": {},
   "outputs": [],
   "source": [
    "#Load the existing .xlsx file as a new workbook object\n",
    "fileDir <- \"./ExportData/\"\n",
    "ipynbName <- \"220610_LC-M001-related-transcriptomics-GEM-ver2-4_StatisticalTest_\"\n",
    "fileName <- \"flux-comparison.xlsx\"\n",
    "workbook <- loadWorkbook(str_c(fileDir,ipynbName,fileName))\n",
    "\n",
    "#Add the summary table to the workbook object\n",
    "##Merge tables\n",
    "temp <- rxn_meta %>%\n",
    "    dplyr::select(ReactionID, ReactionName) %>%\n",
    "    dplyr::filter(ReactionID %in% flux_data$ReactionID)#Reactions assigned with flux values\n",
    "for (group in c(\"Con1\", \"CalR\", \"Con2\", \"MetR\")) {\n",
    "    temp <- general_summary %>%\n",
    "        dplyr::filter(Intervention==!!group) %>%\n",
    "        dplyr::select(-Intervention) %>%\n",
    "        dplyr::rename(\"{group}_N\":=Count,\n",
    "                      \"{group}_FluxMedian\":=FluxMedian,\n",
    "                      \"{group}_FluxMAD\":=FluxMAD) %>%\n",
    "        dplyr::left_join(temp, ., by=\"ReactionID\")\n",
    "}\n",
    "temp <- temp %>%\n",
    "    #dplyr::left_join(., model1_summary, by=\"ReactionID\") %>%#Add NA if not tested (invariable reaction)\n",
    "    dplyr::left_join(., model2_summary, by=\"ReactionID\") %>%#Add NA if not tested (invariable reaction)\n",
    "    dplyr::arrange(`MetR-vs-CalR_Pval`)\n",
    "print(str_c(\"nrow: \",nrow(temp)))\n",
    "head(temp)\n",
    "##Save the summary table as a new sheet\n",
    "sheetName <- \"Posthoc2_MR-vs-CR\"\n",
    "addWorksheet(workbook, sheetName=sheetName)\n",
    "writeData(workbook, sheetName, temp)\n",
    "\n",
    "#Update the existing .xlsx file\n",
    "saveWorkbook(workbook, file=str_c(fileDir,ipynbName,fileName), overwrite=TRUE)"
   ]
  },
  {
   "cell_type": "markdown",
   "id": "d718ff71-2b9e-478c-88a9-ceeebae22405",
   "metadata": {},
   "source": [
    "# — †2. Go back to †2 of the main Python notebook —  "
   ]
  },
  {
   "cell_type": "markdown",
   "id": "71adff3d-628b-4d88-817e-1450a1d14d84",
   "metadata": {},
   "source": [
    "# — Session information —"
   ]
  },
  {
   "cell_type": "code",
   "execution_count": null,
   "id": "5e55c69b-50c9-49fb-8216-6d54a0c9a7ea",
   "metadata": {},
   "outputs": [],
   "source": [
    "sessionInfo()"
   ]
  }
 ],
 "metadata": {
  "kernelspec": {
   "display_name": "arivale-r - R",
   "language": "R",
   "name": "conda-env-arivale-r-r"
  },
  "language_info": {
   "codemirror_mode": "r",
   "file_extension": ".r",
   "mimetype": "text/x-r-source",
   "name": "R",
   "pygments_lexer": "r",
   "version": "4.1.1"
  },
  "widgets": {
   "application/vnd.jupyter.widget-state+json": {
    "state": {},
    "version_major": 2,
    "version_minor": 0
   }
  }
 },
 "nbformat": 4,
 "nbformat_minor": 5
}
